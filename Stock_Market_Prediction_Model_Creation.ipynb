{
 "cells": [
  {
   "cell_type": "code",
   "execution_count": 5,
   "id": "88d67c13-1dca-451c-85d5-eb234183c342",
   "metadata": {},
   "outputs": [
    {
     "name": "stdout",
     "output_type": "stream",
     "text": [
      "Requirement already satisfied: numpy in c:\\users\\hp\\appdata\\local\\programs\\python\\python311\\lib\\site-packages (2.2.5)\n",
      "Requirement already satisfied: pandas in c:\\users\\hp\\appdata\\local\\programs\\python\\python311\\lib\\site-packages (2.2.3)\n",
      "Collecting matplotlib\n",
      "  Downloading matplotlib-3.10.1-cp311-cp311-win_amd64.whl.metadata (11 kB)\n",
      "Collecting yfinance\n",
      "  Using cached yfinance-0.2.55-py2.py3-none-any.whl.metadata (5.8 kB)\n",
      "Requirement already satisfied: python-dateutil>=2.8.2 in c:\\users\\hp\\appdata\\roaming\\python\\python311\\site-packages (from pandas) (2.9.0.post0)\n",
      "Requirement already satisfied: pytz>=2020.1 in c:\\users\\hp\\appdata\\local\\programs\\python\\python311\\lib\\site-packages (from pandas) (2025.2)\n",
      "Requirement already satisfied: tzdata>=2022.7 in c:\\users\\hp\\appdata\\local\\programs\\python\\python311\\lib\\site-packages (from pandas) (2025.2)\n",
      "Collecting contourpy>=1.0.1 (from matplotlib)\n",
      "  Downloading contourpy-1.3.2-cp311-cp311-win_amd64.whl.metadata (5.5 kB)\n",
      "Collecting cycler>=0.10 (from matplotlib)\n",
      "  Using cached cycler-0.12.1-py3-none-any.whl.metadata (3.8 kB)\n",
      "Collecting fonttools>=4.22.0 (from matplotlib)\n",
      "  Downloading fonttools-4.57.0-cp311-cp311-win_amd64.whl.metadata (104 kB)\n",
      "     ---------------------------------------- 0.0/104.6 kB ? eta -:--:--\n",
      "     -------------- ---------------------- 41.0/104.6 kB 653.6 kB/s eta 0:00:01\n",
      "     -------------------------------------- 104.6/104.6 kB 1.0 MB/s eta 0:00:00\n",
      "Collecting kiwisolver>=1.3.1 (from matplotlib)\n",
      "  Downloading kiwisolver-1.4.8-cp311-cp311-win_amd64.whl.metadata (6.3 kB)\n",
      "Requirement already satisfied: packaging>=20.0 in c:\\users\\hp\\appdata\\roaming\\python\\python311\\site-packages (from matplotlib) (25.0)\n",
      "Collecting pillow>=8 (from matplotlib)\n",
      "  Downloading pillow-11.2.1-cp311-cp311-win_amd64.whl.metadata (9.1 kB)\n",
      "Collecting pyparsing>=2.3.1 (from matplotlib)\n",
      "  Using cached pyparsing-3.2.3-py3-none-any.whl.metadata (5.0 kB)\n",
      "Collecting requests>=2.31 (from yfinance)\n",
      "  Using cached requests-2.32.3-py3-none-any.whl.metadata (4.6 kB)\n",
      "Collecting multitasking>=0.0.7 (from yfinance)\n",
      "  Using cached multitasking-0.0.11-py3-none-any.whl.metadata (5.5 kB)\n",
      "Requirement already satisfied: platformdirs>=2.0.0 in c:\\users\\hp\\appdata\\roaming\\python\\python311\\site-packages (from yfinance) (4.3.7)\n",
      "Collecting frozendict>=2.3.4 (from yfinance)\n",
      "  Downloading frozendict-2.4.6-py311-none-any.whl.metadata (23 kB)\n",
      "Collecting peewee>=3.16.2 (from yfinance)\n",
      "  Using cached peewee-3.17.9.tar.gz (3.0 MB)\n",
      "  Installing build dependencies: started\n",
      "  Installing build dependencies: finished with status 'done'\n",
      "  Getting requirements to build wheel: started\n",
      "  Getting requirements to build wheel: finished with status 'done'\n",
      "  Preparing metadata (pyproject.toml): started\n",
      "  Preparing metadata (pyproject.toml): finished with status 'done'\n",
      "Collecting beautifulsoup4>=4.11.1 (from yfinance)\n",
      "  Downloading beautifulsoup4-4.13.4-py3-none-any.whl.metadata (3.8 kB)\n",
      "Collecting soupsieve>1.2 (from beautifulsoup4>=4.11.1->yfinance)\n",
      "  Downloading soupsieve-2.7-py3-none-any.whl.metadata (4.6 kB)\n",
      "Requirement already satisfied: typing-extensions>=4.0.0 in c:\\users\\hp\\appdata\\roaming\\python\\python311\\site-packages (from beautifulsoup4>=4.11.1->yfinance) (4.13.2)\n",
      "Requirement already satisfied: six>=1.5 in c:\\users\\hp\\appdata\\roaming\\python\\python311\\site-packages (from python-dateutil>=2.8.2->pandas) (1.17.0)\n",
      "Collecting charset-normalizer<4,>=2 (from requests>=2.31->yfinance)\n",
      "  Using cached charset_normalizer-3.4.1-cp311-cp311-win_amd64.whl.metadata (36 kB)\n",
      "Collecting idna<4,>=2.5 (from requests>=2.31->yfinance)\n",
      "  Using cached idna-3.10-py3-none-any.whl.metadata (10 kB)\n",
      "Collecting urllib3<3,>=1.21.1 (from requests>=2.31->yfinance)\n",
      "  Using cached urllib3-2.4.0-py3-none-any.whl.metadata (6.5 kB)\n",
      "Collecting certifi>=2017.4.17 (from requests>=2.31->yfinance)\n",
      "  Using cached certifi-2025.1.31-py3-none-any.whl.metadata (2.5 kB)\n",
      "Downloading matplotlib-3.10.1-cp311-cp311-win_amd64.whl (8.1 MB)\n",
      "   ---------------------------------------- 0.0/8.1 MB ? eta -:--:--\n",
      "    --------------------------------------- 0.1/8.1 MB 7.5 MB/s eta 0:00:02\n",
      "   -- ------------------------------------- 0.4/8.1 MB 6.6 MB/s eta 0:00:02\n",
      "   -- ------------------------------------- 0.5/8.1 MB 5.6 MB/s eta 0:00:02\n",
      "   -- ------------------------------------- 0.5/8.1 MB 5.6 MB/s eta 0:00:02\n",
      "   ----- ---------------------------------- 1.1/8.1 MB 4.8 MB/s eta 0:00:02\n",
      "   ------ --------------------------------- 1.2/8.1 MB 4.7 MB/s eta 0:00:02\n",
      "   --------- ------------------------------ 1.9/8.1 MB 6.1 MB/s eta 0:00:01\n",
      "   -------------- ------------------------- 2.9/8.1 MB 7.8 MB/s eta 0:00:01\n",
      "   ------------------ --------------------- 3.6/8.1 MB 8.6 MB/s eta 0:00:01\n",
      "   --------------------- ------------------ 4.3/8.1 MB 9.5 MB/s eta 0:00:01\n",
      "   --------------------------- ------------ 5.6/8.1 MB 11.1 MB/s eta 0:00:01\n",
      "   ------------------------------ --------- 6.1/8.1 MB 11.5 MB/s eta 0:00:01\n",
      "   ------------------------------------ --- 7.4/8.1 MB 12.4 MB/s eta 0:00:01\n",
      "   ---------------------------------------- 8.1/8.1 MB 12.9 MB/s eta 0:00:00\n",
      "Using cached yfinance-0.2.55-py2.py3-none-any.whl (109 kB)\n",
      "Downloading beautifulsoup4-4.13.4-py3-none-any.whl (187 kB)\n",
      "   ---------------------------------------- 0.0/187.3 kB ? eta -:--:--\n",
      "   --------------------------------------- 187.3/187.3 kB 11.1 MB/s eta 0:00:00\n",
      "Downloading contourpy-1.3.2-cp311-cp311-win_amd64.whl (222 kB)\n",
      "   ---------------------------------------- 0.0/222.0 kB ? eta -:--:--\n",
      "   --------------------------------------- 222.0/222.0 kB 14.1 MB/s eta 0:00:00\n",
      "Using cached cycler-0.12.1-py3-none-any.whl (8.3 kB)\n",
      "Downloading fonttools-4.57.0-cp311-cp311-win_amd64.whl (2.2 MB)\n",
      "   ---------------------------------------- 0.0/2.2 MB ? eta -:--:--\n",
      "   ------------ --------------------------- 0.7/2.2 MB 42.2 MB/s eta 0:00:01\n",
      "   --------------------------------- ------ 1.8/2.2 MB 23.2 MB/s eta 0:00:01\n",
      "   ---------------------------------------- 2.2/2.2 MB 17.6 MB/s eta 0:00:00\n",
      "Downloading frozendict-2.4.6-py311-none-any.whl (16 kB)\n",
      "Downloading kiwisolver-1.4.8-cp311-cp311-win_amd64.whl (71 kB)\n",
      "   ---------------------------------------- 0.0/72.0 kB ? eta -:--:--\n",
      "   ---------------------------------------- 72.0/72.0 kB ? eta 0:00:00\n",
      "Using cached multitasking-0.0.11-py3-none-any.whl (8.5 kB)\n",
      "Downloading pillow-11.2.1-cp311-cp311-win_amd64.whl (2.7 MB)\n",
      "   ---------------------------------------- 0.0/2.7 MB ? eta -:--:--\n",
      "   ----------- ---------------------------- 0.8/2.7 MB 16.3 MB/s eta 0:00:01\n",
      "   -------------------------------- ------- 2.2/2.7 MB 23.0 MB/s eta 0:00:01\n",
      "   ---------------------------------------- 2.7/2.7 MB 21.3 MB/s eta 0:00:00\n",
      "Using cached pyparsing-3.2.3-py3-none-any.whl (111 kB)\n",
      "Using cached requests-2.32.3-py3-none-any.whl (64 kB)\n",
      "Using cached certifi-2025.1.31-py3-none-any.whl (166 kB)\n",
      "Using cached charset_normalizer-3.4.1-cp311-cp311-win_amd64.whl (102 kB)\n",
      "Using cached idna-3.10-py3-none-any.whl (70 kB)\n",
      "Downloading soupsieve-2.7-py3-none-any.whl (36 kB)\n",
      "Using cached urllib3-2.4.0-py3-none-any.whl (128 kB)\n",
      "Building wheels for collected packages: peewee\n",
      "  Building wheel for peewee (pyproject.toml): started\n",
      "  Building wheel for peewee (pyproject.toml): finished with status 'done'\n",
      "  Created wheel for peewee: filename=peewee-3.17.9-py3-none-any.whl size=139127 sha256=ab442dff600f19a7bb51c89ffa0bbda16339d1d84c280f6a9522cdfb76661527\n",
      "  Stored in directory: c:\\users\\hp\\appdata\\local\\pip\\cache\\wheels\\f4\\14\\e4\\50c88c865833085aeb91e2bd40e3a683ff434806386b8ee7bc\n",
      "Successfully built peewee\n",
      "Installing collected packages: peewee, multitasking, urllib3, soupsieve, pyparsing, pillow, kiwisolver, idna, frozendict, fonttools, cycler, contourpy, charset-normalizer, certifi, requests, matplotlib, beautifulsoup4, yfinance\n",
      "Successfully installed beautifulsoup4-4.13.4 certifi-2025.1.31 charset-normalizer-3.4.1 contourpy-1.3.2 cycler-0.12.1 fonttools-4.57.0 frozendict-2.4.6 idna-3.10 kiwisolver-1.4.8 matplotlib-3.10.1 multitasking-0.0.11 peewee-3.17.9 pillow-11.2.1 pyparsing-3.2.3 requests-2.32.3 soupsieve-2.7 urllib3-2.4.0 yfinance-0.2.55\n"
     ]
    },
    {
     "name": "stderr",
     "output_type": "stream",
     "text": [
      "\n",
      "[notice] A new release of pip is available: 24.0 -> 25.0.1\n",
      "[notice] To update, run: python.exe -m pip install --upgrade pip\n"
     ]
    }
   ],
   "source": [
    "!pip install numpy pandas matplotlib yfinance\n",
    "import numpy as np\n",
    "import pandas as pd\n",
    "import matplotlib.pyplot as plt\n",
    "import yfinance as yf"
   ]
  },
  {
   "cell_type": "code",
   "execution_count": 6,
   "id": "f3bc102c-1442-4cae-9093-f77f2b7b7e0c",
   "metadata": {},
   "outputs": [
    {
     "name": "stdout",
     "output_type": "stream",
     "text": [
      "YF.download() has changed argument auto_adjust default to True\n"
     ]
    },
    {
     "name": "stderr",
     "output_type": "stream",
     "text": [
      "[*********************100%***********************]  1 of 1 completed\n"
     ]
    }
   ],
   "source": [
    "start = '2012-01-01'\n",
    "end = '2022-12-21'\n",
    "stock = 'GOOG'\n",
    "\n",
    "data = yf.download(stock, start, end)"
   ]
  },
  {
   "cell_type": "code",
   "execution_count": 7,
   "id": "8657c12a-ec44-4ea9-80c9-7ecbec9b0084",
   "metadata": {},
   "outputs": [],
   "source": [
    "data.reset_index(inplace=True)"
   ]
  },
  {
   "cell_type": "code",
   "execution_count": 8,
   "id": "e8fadd81-946b-47fc-b014-8ecf059302ce",
   "metadata": {},
   "outputs": [
    {
     "data": {
      "text/html": [
       "<div>\n",
       "<style scoped>\n",
       "    .dataframe tbody tr th:only-of-type {\n",
       "        vertical-align: middle;\n",
       "    }\n",
       "\n",
       "    .dataframe tbody tr th {\n",
       "        vertical-align: top;\n",
       "    }\n",
       "\n",
       "    .dataframe thead tr th {\n",
       "        text-align: left;\n",
       "    }\n",
       "</style>\n",
       "<table border=\"1\" class=\"dataframe\">\n",
       "  <thead>\n",
       "    <tr>\n",
       "      <th>Price</th>\n",
       "      <th>Date</th>\n",
       "      <th>Close</th>\n",
       "      <th>High</th>\n",
       "      <th>Low</th>\n",
       "      <th>Open</th>\n",
       "      <th>Volume</th>\n",
       "    </tr>\n",
       "    <tr>\n",
       "      <th>Ticker</th>\n",
       "      <th></th>\n",
       "      <th>GOOG</th>\n",
       "      <th>GOOG</th>\n",
       "      <th>GOOG</th>\n",
       "      <th>GOOG</th>\n",
       "      <th>GOOG</th>\n",
       "    </tr>\n",
       "  </thead>\n",
       "  <tbody>\n",
       "    <tr>\n",
       "      <th>0</th>\n",
       "      <td>2012-01-03</td>\n",
       "      <td>16.495001</td>\n",
       "      <td>16.562924</td>\n",
       "      <td>16.171749</td>\n",
       "      <td>16.185880</td>\n",
       "      <td>147611217</td>\n",
       "    </tr>\n",
       "    <tr>\n",
       "      <th>1</th>\n",
       "      <td>2012-01-04</td>\n",
       "      <td>16.566147</td>\n",
       "      <td>16.614982</td>\n",
       "      <td>16.376262</td>\n",
       "      <td>16.485582</td>\n",
       "      <td>114989399</td>\n",
       "    </tr>\n",
       "    <tr>\n",
       "      <th>2</th>\n",
       "      <td>2012-01-05</td>\n",
       "      <td>16.336349</td>\n",
       "      <td>16.459304</td>\n",
       "      <td>16.267435</td>\n",
       "      <td>16.413692</td>\n",
       "      <td>131808205</td>\n",
       "    </tr>\n",
       "    <tr>\n",
       "      <th>3</th>\n",
       "      <td>2012-01-06</td>\n",
       "      <td>16.113495</td>\n",
       "      <td>16.360891</td>\n",
       "      <td>16.107792</td>\n",
       "      <td>16.339819</td>\n",
       "      <td>108119746</td>\n",
       "    </tr>\n",
       "    <tr>\n",
       "      <th>4</th>\n",
       "      <td>2012-01-09</td>\n",
       "      <td>15.430305</td>\n",
       "      <td>16.038633</td>\n",
       "      <td>15.399813</td>\n",
       "      <td>16.026237</td>\n",
       "      <td>233776981</td>\n",
       "    </tr>\n",
       "    <tr>\n",
       "      <th>...</th>\n",
       "      <td>...</td>\n",
       "      <td>...</td>\n",
       "      <td>...</td>\n",
       "      <td>...</td>\n",
       "      <td>...</td>\n",
       "      <td>...</td>\n",
       "    </tr>\n",
       "    <tr>\n",
       "      <th>2756</th>\n",
       "      <td>2022-12-14</td>\n",
       "      <td>94.860695</td>\n",
       "      <td>96.761695</td>\n",
       "      <td>93.497158</td>\n",
       "      <td>95.089614</td>\n",
       "      <td>26452900</td>\n",
       "    </tr>\n",
       "    <tr>\n",
       "      <th>2757</th>\n",
       "      <td>2022-12-15</td>\n",
       "      <td>90.770073</td>\n",
       "      <td>93.586734</td>\n",
       "      <td>90.003706</td>\n",
       "      <td>93.099046</td>\n",
       "      <td>28298800</td>\n",
       "    </tr>\n",
       "    <tr>\n",
       "      <th>2758</th>\n",
       "      <td>2022-12-16</td>\n",
       "      <td>90.431671</td>\n",
       "      <td>91.317475</td>\n",
       "      <td>89.585680</td>\n",
       "      <td>90.770065</td>\n",
       "      <td>48485500</td>\n",
       "    </tr>\n",
       "    <tr>\n",
       "      <th>2759</th>\n",
       "      <td>2022-12-19</td>\n",
       "      <td>88.729736</td>\n",
       "      <td>90.770068</td>\n",
       "      <td>88.505799</td>\n",
       "      <td>90.451577</td>\n",
       "      <td>23020500</td>\n",
       "    </tr>\n",
       "    <tr>\n",
       "      <th>2760</th>\n",
       "      <td>2022-12-20</td>\n",
       "      <td>89.207474</td>\n",
       "      <td>89.356768</td>\n",
       "      <td>87.624973</td>\n",
       "      <td>88.311723</td>\n",
       "      <td>21976800</td>\n",
       "    </tr>\n",
       "  </tbody>\n",
       "</table>\n",
       "<p>2761 rows × 6 columns</p>\n",
       "</div>"
      ],
      "text/plain": [
       "Price        Date      Close       High        Low       Open     Volume\n",
       "Ticker                  GOOG       GOOG       GOOG       GOOG       GOOG\n",
       "0      2012-01-03  16.495001  16.562924  16.171749  16.185880  147611217\n",
       "1      2012-01-04  16.566147  16.614982  16.376262  16.485582  114989399\n",
       "2      2012-01-05  16.336349  16.459304  16.267435  16.413692  131808205\n",
       "3      2012-01-06  16.113495  16.360891  16.107792  16.339819  108119746\n",
       "4      2012-01-09  15.430305  16.038633  15.399813  16.026237  233776981\n",
       "...           ...        ...        ...        ...        ...        ...\n",
       "2756   2022-12-14  94.860695  96.761695  93.497158  95.089614   26452900\n",
       "2757   2022-12-15  90.770073  93.586734  90.003706  93.099046   28298800\n",
       "2758   2022-12-16  90.431671  91.317475  89.585680  90.770065   48485500\n",
       "2759   2022-12-19  88.729736  90.770068  88.505799  90.451577   23020500\n",
       "2760   2022-12-20  89.207474  89.356768  87.624973  88.311723   21976800\n",
       "\n",
       "[2761 rows x 6 columns]"
      ]
     },
     "execution_count": 8,
     "metadata": {},
     "output_type": "execute_result"
    }
   ],
   "source": [
    "data"
   ]
  },
  {
   "cell_type": "code",
   "execution_count": 9,
   "id": "8a478e83-6aee-4809-9405-be6f8b65b16a",
   "metadata": {},
   "outputs": [],
   "source": [
    "ma_100_days = data.Close.rolling(100).mean()"
   ]
  },
  {
   "cell_type": "code",
   "execution_count": 10,
   "id": "fc840124-ef3e-40b0-9e74-aa5a174c4c50",
   "metadata": {},
   "outputs": [
    {
     "data": {
      "image/png": "[encoded data removed]",
      "text/plain": [
       "<Figure size 800x600 with 1 Axes>"
      ]
     },
     "metadata": {},
     "output_type": "display_data"
    }
   ],
   "source": [
    "plt.figure(figsize=(8,6))\n",
    "plt.plot(ma_100_days, 'r')\n",
    "plt.plot(data.Close, 'g')\n",
    "plt.show()"
   ]
  },
  {
   "cell_type": "code",
   "execution_count": 11,
   "id": "1158c05f-1a2c-41f8-8add-85720074cdcd",
   "metadata": {},
   "outputs": [],
   "source": [
    "ma_200_days = data.Close.rolling(200).mean()"
   ]
  },
  {
   "cell_type": "code",
   "execution_count": 12,
   "id": "97a1b79b-2302-43d7-883a-a0a255c864bf",
   "metadata": {},
   "outputs": [
    {
     "data": {
      "image/png": "[encoded data removed]",
      "text/plain": [
       "<Figure size 800x600 with 1 Axes>"
      ]
     },
     "metadata": {},
     "output_type": "display_data"
    }
   ],
   "source": [
    "plt.figure(figsize=(8,6))\n",
    "plt.plot(ma_100_days, 'r')\n",
    "plt.plot(ma_200_days,'b')\n",
    "plt.plot(data.Close,'g')\n",
    "plt.show()"
   ]
  },
  {
   "cell_type": "code",
   "execution_count": 13,
   "id": "0ac073de-1a30-487c-a1f8-c809cbba06db",
   "metadata": {},
   "outputs": [],
   "source": [
    "data.dropna(inplace=True)"
   ]
  },
  {
   "cell_type": "code",
   "execution_count": 14,
   "id": "64246466-177b-46f9-b4eb-6ee5005bfd6b",
   "metadata": {},
   "outputs": [],
   "source": [
    "data_train = pd.DataFrame(data.Close[0: int(len(data)*0.80)])\n",
    "data_test = pd.DataFrame(data.Close[int(len(data)*0.80): len(data)])"
   ]
  },
  {
   "cell_type": "code",
   "execution_count": 15,
   "id": "0f4c0b4b-2b5e-4f62-bd84-47a86ed3da3e",
   "metadata": {},
   "outputs": [
    {
     "data": {
      "text/plain": [
       "2208"
      ]
     },
     "execution_count": 15,
     "metadata": {},
     "output_type": "execute_result"
    }
   ],
   "source": [
    "data_train.shape[0]"
   ]
  },
  {
   "cell_type": "code",
   "execution_count": 16,
   "id": "0a609554-633d-4edf-abc1-21bd874a3cd1",
   "metadata": {},
   "outputs": [
    {
     "data": {
      "text/plain": [
       "553"
      ]
     },
     "execution_count": 16,
     "metadata": {},
     "output_type": "execute_result"
    }
   ],
   "source": [
    "data_test.shape[0]"
   ]
  },
  {
   "cell_type": "code",
   "execution_count": 18,
   "id": "d5144e93-eab7-479f-9fde-9bf8c5786dc6",
   "metadata": {},
   "outputs": [
    {
     "name": "stdout",
     "output_type": "stream",
     "text": [
      "Collecting scikit-learn\n",
      "  Using cached scikit_learn-1.6.1-cp311-cp311-win_amd64.whl.metadata (15 kB)\n",
      "Requirement already satisfied: numpy>=1.19.5 in c:\\users\\hp\\appdata\\local\\programs\\python\\python311\\lib\\site-packages (from scikit-learn) (2.2.5)\n",
      "Collecting scipy>=1.6.0 (from scikit-learn)\n",
      "  Using cached scipy-1.15.2-cp311-cp311-win_amd64.whl.metadata (60 kB)\n",
      "Collecting joblib>=1.2.0 (from scikit-learn)\n",
      "  Using cached joblib-1.4.2-py3-none-any.whl.metadata (5.4 kB)\n",
      "Collecting threadpoolctl>=3.1.0 (from scikit-learn)\n",
      "  Using cached threadpoolctl-3.6.0-py3-none-any.whl.metadata (13 kB)\n",
      "Using cached scikit_learn-1.6.1-cp311-cp311-win_amd64.whl (11.1 MB)\n",
      "Using cached joblib-1.4.2-py3-none-any.whl (301 kB)\n",
      "Using cached scipy-1.15.2-cp311-cp311-win_amd64.whl (41.2 MB)\n",
      "Using cached threadpoolctl-3.6.0-py3-none-any.whl (18 kB)\n",
      "Installing collected packages: threadpoolctl, scipy, joblib, scikit-learn\n",
      "Successfully installed joblib-1.4.2 scikit-learn-1.6.1 scipy-1.15.2 threadpoolctl-3.6.0\n"
     ]
    },
    {
     "name": "stderr",
     "output_type": "stream",
     "text": [
      "\n",
      "[notice] A new release of pip is available: 24.0 -> 25.0.1\n",
      "[notice] To update, run: python.exe -m pip install --upgrade pip\n"
     ]
    }
   ],
   "source": [
    "!pip install scikit-learn\n",
    "from sklearn.preprocessing import MinMaxScaler\n",
    "scaler = MinMaxScaler(feature_range=(0,1))"
   ]
  },
  {
   "cell_type": "code",
   "execution_count": 19,
   "id": "4c2793bd-1def-45f7-8fd2-9115eed1c2c1",
   "metadata": {},
   "outputs": [],
   "source": [
    "data_train_scale = scaler.fit_transform(data_train)"
   ]
  },
  {
   "cell_type": "code",
   "execution_count": 20,
   "id": "d55d63c2-132a-40b5-9398-e576ceba14fd",
   "metadata": {},
   "outputs": [],
   "source": [
    "x = []\n",
    "y = []\n",
    "\n",
    "for i in range(100, data_train_scale.shape[0]):\n",
    "    x.append(data_train_scale[i-100:i])\n",
    "    y.append(data_train_scale[i,0])\n",
    "    "
   ]
  },
  {
   "cell_type": "code",
   "execution_count": 21,
   "id": "998369e6-f1ad-4cf5-af58-0aa5b7aa315c",
   "metadata": {},
   "outputs": [],
   "source": [
    "x, y = np.array(x), np.array(y)"
   ]
  },
  {
   "cell_type": "code",
   "execution_count": 24,
   "id": "3c9c6717-e792-4206-960f-0689203555ca",
   "metadata": {},
   "outputs": [
    {
     "name": "stdout",
     "output_type": "stream",
     "text": [
      "Requirement already satisfied: keras in c:\\users\\hp\\appdata\\local\\programs\\python\\python311\\lib\\site-packages (3.9.2)\n",
      "Collecting tensorflow\n",
      "  Downloading tensorflow-2.19.0-cp311-cp311-win_amd64.whl.metadata (4.1 kB)\n",
      "Requirement already satisfied: absl-py in c:\\users\\hp\\appdata\\local\\programs\\python\\python311\\lib\\site-packages (from keras) (2.2.2)\n",
      "Requirement already satisfied: numpy in c:\\users\\hp\\appdata\\local\\programs\\python\\python311\\lib\\site-packages (from keras) (2.2.5)\n",
      "Requirement already satisfied: rich in c:\\users\\hp\\appdata\\local\\programs\\python\\python311\\lib\\site-packages (from keras) (14.0.0)\n",
      "Requirement already satisfied: namex in c:\\users\\hp\\appdata\\local\\programs\\python\\python311\\lib\\site-packages (from keras) (0.0.8)\n",
      "Requirement already satisfied: h5py in c:\\users\\hp\\appdata\\local\\programs\\python\\python311\\lib\\site-packages (from keras) (3.13.0)\n",
      "Requirement already satisfied: optree in c:\\users\\hp\\appdata\\local\\programs\\python\\python311\\lib\\site-packages (from keras) (0.15.0)\n",
      "Requirement already satisfied: ml-dtypes in c:\\users\\hp\\appdata\\local\\programs\\python\\python311\\lib\\site-packages (from keras) (0.5.1)\n",
      "Requirement already satisfied: packaging in c:\\users\\hp\\appdata\\roaming\\python\\python311\\site-packages (from keras) (25.0)\n",
      "Collecting astunparse>=1.6.0 (from tensorflow)\n",
      "  Using cached astunparse-1.6.3-py2.py3-none-any.whl.metadata (4.4 kB)\n",
      "Collecting flatbuffers>=24.3.25 (from tensorflow)\n",
      "  Using cached flatbuffers-25.2.10-py2.py3-none-any.whl.metadata (875 bytes)\n",
      "Collecting gast!=0.5.0,!=0.5.1,!=0.5.2,>=0.2.1 (from tensorflow)\n",
      "  Using cached gast-0.6.0-py3-none-any.whl.metadata (1.3 kB)\n",
      "Collecting google-pasta>=0.1.1 (from tensorflow)\n",
      "  Using cached google_pasta-0.2.0-py3-none-any.whl.metadata (814 bytes)\n",
      "Collecting libclang>=13.0.0 (from tensorflow)\n",
      "  Using cached libclang-18.1.1-py2.py3-none-win_amd64.whl.metadata (5.3 kB)\n",
      "Collecting opt-einsum>=2.3.2 (from tensorflow)\n",
      "  Using cached opt_einsum-3.4.0-py3-none-any.whl.metadata (6.3 kB)\n",
      "Collecting protobuf!=4.21.0,!=4.21.1,!=4.21.2,!=4.21.3,!=4.21.4,!=4.21.5,<6.0.0dev,>=3.20.3 (from tensorflow)\n",
      "  Using cached protobuf-5.29.4-cp310-abi3-win_amd64.whl.metadata (592 bytes)\n",
      "Requirement already satisfied: requests<3,>=2.21.0 in c:\\users\\hp\\appdata\\local\\programs\\python\\python311\\lib\\site-packages (from tensorflow) (2.32.3)\n",
      "Requirement already satisfied: setuptools in c:\\users\\hp\\appdata\\local\\programs\\python\\python311\\lib\\site-packages (from tensorflow) (65.5.0)\n",
      "Requirement already satisfied: six>=1.12.0 in c:\\users\\hp\\appdata\\roaming\\python\\python311\\site-packages (from tensorflow) (1.17.0)\n",
      "Collecting termcolor>=1.1.0 (from tensorflow)\n",
      "  Using cached termcolor-3.0.1-py3-none-any.whl.metadata (6.1 kB)\n",
      "Requirement already satisfied: typing-extensions>=3.6.6 in c:\\users\\hp\\appdata\\roaming\\python\\python311\\site-packages (from tensorflow) (4.13.2)\n",
      "Collecting wrapt>=1.11.0 (from tensorflow)\n",
      "  Using cached wrapt-1.17.2-cp311-cp311-win_amd64.whl.metadata (6.5 kB)\n",
      "Collecting grpcio<2.0,>=1.24.3 (from tensorflow)\n",
      "  Using cached grpcio-1.71.0-cp311-cp311-win_amd64.whl.metadata (4.0 kB)\n",
      "Collecting tensorboard~=2.19.0 (from tensorflow)\n",
      "  Using cached tensorboard-2.19.0-py3-none-any.whl.metadata (1.8 kB)\n",
      "Collecting numpy (from keras)\n",
      "  Downloading numpy-2.1.3-cp311-cp311-win_amd64.whl.metadata (60 kB)\n",
      "     ---------------------------------------- 0.0/60.8 kB ? eta -:--:--\n",
      "     ---------------------------------------- 0.0/60.8 kB ? eta -:--:--\n",
      "     ------ --------------------------------- 10.2/60.8 kB ? eta -:--:--\n",
      "     ------ --------------------------------- 10.2/60.8 kB ? eta -:--:--\n",
      "     ------------------------- ------------ 41.0/60.8 kB 281.8 kB/s eta 0:00:01\n",
      "     -------------------------------------- 60.8/60.8 kB 361.5 kB/s eta 0:00:00\n",
      "Collecting tensorflow-io-gcs-filesystem>=0.23.1 (from tensorflow)\n",
      "  Using cached tensorflow_io_gcs_filesystem-0.31.0-cp311-cp311-win_amd64.whl.metadata (14 kB)\n",
      "Collecting wheel<1.0,>=0.23.0 (from astunparse>=1.6.0->tensorflow)\n",
      "  Using cached wheel-0.45.1-py3-none-any.whl.metadata (2.3 kB)\n",
      "Requirement already satisfied: charset-normalizer<4,>=2 in c:\\users\\hp\\appdata\\local\\programs\\python\\python311\\lib\\site-packages (from requests<3,>=2.21.0->tensorflow) (3.4.1)\n",
      "Requirement already satisfied: idna<4,>=2.5 in c:\\users\\hp\\appdata\\local\\programs\\python\\python311\\lib\\site-packages (from requests<3,>=2.21.0->tensorflow) (3.10)\n",
      "Requirement already satisfied: urllib3<3,>=1.21.1 in c:\\users\\hp\\appdata\\local\\programs\\python\\python311\\lib\\site-packages (from requests<3,>=2.21.0->tensorflow) (2.4.0)\n",
      "Requirement already satisfied: certifi>=2017.4.17 in c:\\users\\hp\\appdata\\local\\programs\\python\\python311\\lib\\site-packages (from requests<3,>=2.21.0->tensorflow) (2025.1.31)\n",
      "Collecting markdown>=2.6.8 (from tensorboard~=2.19.0->tensorflow)\n",
      "  Using cached markdown-3.8-py3-none-any.whl.metadata (5.1 kB)\n",
      "Collecting tensorboard-data-server<0.8.0,>=0.7.0 (from tensorboard~=2.19.0->tensorflow)\n",
      "  Using cached tensorboard_data_server-0.7.2-py3-none-any.whl.metadata (1.1 kB)\n",
      "Collecting werkzeug>=1.0.1 (from tensorboard~=2.19.0->tensorflow)\n",
      "  Using cached werkzeug-3.1.3-py3-none-any.whl.metadata (3.7 kB)\n",
      "Requirement already satisfied: markdown-it-py>=2.2.0 in c:\\users\\hp\\appdata\\local\\programs\\python\\python311\\lib\\site-packages (from rich->keras) (3.0.0)\n",
      "Requirement already satisfied: pygments<3.0.0,>=2.13.0 in c:\\users\\hp\\appdata\\roaming\\python\\python311\\site-packages (from rich->keras) (2.19.1)\n",
      "Requirement already satisfied: mdurl~=0.1 in c:\\users\\hp\\appdata\\local\\programs\\python\\python311\\lib\\site-packages (from markdown-it-py>=2.2.0->rich->keras) (0.1.2)\n",
      "Collecting MarkupSafe>=2.1.1 (from werkzeug>=1.0.1->tensorboard~=2.19.0->tensorflow)\n",
      "  Using cached MarkupSafe-3.0.2-cp311-cp311-win_amd64.whl.metadata (4.1 kB)\n",
      "Downloading tensorflow-2.19.0-cp311-cp311-win_amd64.whl (375.9 MB)\n",
      "   ---------------------------------------- 0.0/375.9 MB ? eta -:--:--\n",
      "   ---------------------------------------- 0.0/375.9 MB 991.0 kB/s eta 0:06:20\n",
      "   ---------------------------------------- 0.1/375.9 MB 1.6 MB/s eta 0:03:52\n",
      "   ---------------------------------------- 0.3/375.9 MB 2.1 MB/s eta 0:02:57\n",
      "   ---------------------------------------- 0.6/375.9 MB 3.2 MB/s eta 0:01:57\n",
      "   ---------------------------------------- 1.4/375.9 MB 6.3 MB/s eta 0:01:00\n",
      "   ---------------------------------------- 2.1/375.9 MB 7.9 MB/s eta 0:00:48\n",
      "   ---------------------------------------- 2.8/375.9 MB 8.9 MB/s eta 0:00:42\n",
      "   ---------------------------------------- 3.6/375.9 MB 10.0 MB/s eta 0:00:38\n",
      "   ---------------------------------------- 4.2/375.9 MB 10.7 MB/s eta 0:00:35\n",
      "    --------------------------------------- 5.2/375.9 MB 11.9 MB/s eta 0:00:32\n",
      "    --------------------------------------- 6.0/375.9 MB 12.4 MB/s eta 0:00:30\n",
      "    --------------------------------------- 7.3/375.9 MB 13.7 MB/s eta 0:00:27\n",
      "    --------------------------------------- 8.3/375.9 MB 14.7 MB/s eta 0:00:25\n",
      "   - -------------------------------------- 9.5/375.9 MB 15.5 MB/s eta 0:00:24\n",
      "   - -------------------------------------- 10.5/375.9 MB 19.3 MB/s eta 0:00:19\n",
      "   - -------------------------------------- 11.5/375.9 MB 21.8 MB/s eta 0:00:17\n",
      "   - -------------------------------------- 12.9/375.9 MB 24.3 MB/s eta 0:00:15\n",
      "   - -------------------------------------- 14.2/375.9 MB 25.2 MB/s eta 0:00:15\n",
      "   - -------------------------------------- 15.2/375.9 MB 25.2 MB/s eta 0:00:15\n",
      "   - -------------------------------------- 16.3/375.9 MB 25.1 MB/s eta 0:00:15\n",
      "   - -------------------------------------- 17.0/375.9 MB 25.2 MB/s eta 0:00:15\n",
      "   - -------------------------------------- 18.2/375.9 MB 25.2 MB/s eta 0:00:15\n",
      "   -- ------------------------------------- 19.1/375.9 MB 24.2 MB/s eta 0:00:15\n",
      "   -- ------------------------------------- 20.4/375.9 MB 24.2 MB/s eta 0:00:15\n",
      "   -- ------------------------------------- 21.5/375.9 MB 24.2 MB/s eta 0:00:15\n",
      "   -- ------------------------------------- 22.3/375.9 MB 23.4 MB/s eta 0:00:16\n",
      "   -- ------------------------------------- 23.3/375.9 MB 23.4 MB/s eta 0:00:16\n",
      "   -- ------------------------------------- 24.1/375.9 MB 22.6 MB/s eta 0:00:16\n",
      "   -- ------------------------------------- 25.1/375.9 MB 22.6 MB/s eta 0:00:16\n",
      "   -- ------------------------------------- 26.5/375.9 MB 24.2 MB/s eta 0:00:15\n",
      "   -- ------------------------------------- 28.1/375.9 MB 24.2 MB/s eta 0:00:15\n",
      "   --- ------------------------------------ 29.3/375.9 MB 24.2 MB/s eta 0:00:15\n",
      "   --- ------------------------------------ 30.2/375.9 MB 23.4 MB/s eta 0:00:15\n",
      "   --- ------------------------------------ 31.7/375.9 MB 24.2 MB/s eta 0:00:15\n",
      "   --- ------------------------------------ 32.8/375.9 MB 26.2 MB/s eta 0:00:14\n",
      "   --- ------------------------------------ 34.2/375.9 MB 27.3 MB/s eta 0:00:13\n",
      "   --- ------------------------------------ 35.5/375.9 MB 28.4 MB/s eta 0:00:12\n",
      "   --- ------------------------------------ 36.7/375.9 MB 28.5 MB/s eta 0:00:12\n",
      "   ---- ----------------------------------- 37.9/375.9 MB 28.4 MB/s eta 0:00:12\n",
      "   ---- ----------------------------------- 39.2/375.9 MB 28.4 MB/s eta 0:00:12\n",
      "   ---- ----------------------------------- 40.9/375.9 MB 32.7 MB/s eta 0:00:11\n",
      "   ---- ----------------------------------- 42.4/375.9 MB 29.8 MB/s eta 0:00:12\n",
      "   ---- ----------------------------------- 43.7/375.9 MB 32.7 MB/s eta 0:00:11\n",
      "   ---- ----------------------------------- 45.5/375.9 MB 32.7 MB/s eta 0:00:11\n",
      "   ---- ----------------------------------- 46.2/375.9 MB 32.7 MB/s eta 0:00:11\n",
      "   ----- ---------------------------------- 47.6/375.9 MB 32.7 MB/s eta 0:00:11\n",
      "   ----- ---------------------------------- 48.7/375.9 MB 32.7 MB/s eta 0:00:11\n",
      "   ----- ---------------------------------- 49.8/375.9 MB 29.8 MB/s eta 0:00:11\n",
      "   ----- ---------------------------------- 51.6/375.9 MB 31.2 MB/s eta 0:00:11\n",
      "   ----- ---------------------------------- 52.4/375.9 MB 29.7 MB/s eta 0:00:11\n",
      "   ----- ---------------------------------- 53.7/375.9 MB 29.8 MB/s eta 0:00:11\n",
      "   ----- ---------------------------------- 54.9/375.9 MB 28.5 MB/s eta 0:00:12\n",
      "   ----- ---------------------------------- 56.1/375.9 MB 28.5 MB/s eta 0:00:12\n",
      "   ------ --------------------------------- 57.2/375.9 MB 27.3 MB/s eta 0:00:12\n",
      "   ------ --------------------------------- 58.2/375.9 MB 26.2 MB/s eta 0:00:13\n",
      "   ------ --------------------------------- 59.8/375.9 MB 28.5 MB/s eta 0:00:12\n",
      "   ------ --------------------------------- 60.8/375.9 MB 27.3 MB/s eta 0:00:12\n",
      "   ------ --------------------------------- 62.2/375.9 MB 28.5 MB/s eta 0:00:12\n",
      "   ------ --------------------------------- 63.2/375.9 MB 27.3 MB/s eta 0:00:12\n",
      "   ------ --------------------------------- 64.6/375.9 MB 27.3 MB/s eta 0:00:12\n",
      "   ------- -------------------------------- 66.0/375.9 MB 28.4 MB/s eta 0:00:11\n",
      "   ------- -------------------------------- 67.1/375.9 MB 29.7 MB/s eta 0:00:11\n",
      "   ------- -------------------------------- 68.3/375.9 MB 28.4 MB/s eta 0:00:11\n",
      "   ------- -------------------------------- 69.5/375.9 MB 28.4 MB/s eta 0:00:11\n",
      "   ------- -------------------------------- 70.8/375.9 MB 29.7 MB/s eta 0:00:11\n",
      "   ------- -------------------------------- 72.1/375.9 MB 31.2 MB/s eta 0:00:10\n",
      "   ------- -------------------------------- 73.1/375.9 MB 29.7 MB/s eta 0:00:11\n",
      "   ------- -------------------------------- 74.7/375.9 MB 29.7 MB/s eta 0:00:11\n",
      "   -------- ------------------------------- 76.4/375.9 MB 31.2 MB/s eta 0:00:10\n",
      "   -------- ------------------------------- 77.4/375.9 MB 31.1 MB/s eta 0:00:10\n",
      "   -------- ------------------------------- 79.4/375.9 MB 34.4 MB/s eta 0:00:09\n",
      "   -------- ------------------------------- 80.8/375.9 MB 34.4 MB/s eta 0:00:09\n",
      "   -------- ------------------------------- 82.3/375.9 MB 32.7 MB/s eta 0:00:09\n",
      "   -------- ------------------------------- 83.7/375.9 MB 34.6 MB/s eta 0:00:09\n",
      "   --------- ------------------------------ 85.5/375.9 MB 34.4 MB/s eta 0:00:09\n",
      "   --------- ------------------------------ 87.5/375.9 MB 34.4 MB/s eta 0:00:09\n",
      "   --------- ------------------------------ 88.9/375.9 MB 36.4 MB/s eta 0:00:08\n",
      "   --------- ------------------------------ 90.9/375.9 MB 36.4 MB/s eta 0:00:08\n",
      "   --------- ------------------------------ 92.8/375.9 MB 36.4 MB/s eta 0:00:08\n",
      "   ---------- ----------------------------- 94.4/375.9 MB 38.5 MB/s eta 0:00:08\n",
      "   ---------- ----------------------------- 96.2/375.9 MB 40.9 MB/s eta 0:00:07\n",
      "   ---------- ----------------------------- 98.0/375.9 MB 38.6 MB/s eta 0:00:08\n",
      "   ---------- ---------------------------- 100.4/375.9 MB 40.9 MB/s eta 0:00:07\n",
      "   ---------- ---------------------------- 101.8/375.9 MB 40.9 MB/s eta 0:00:07\n",
      "   ---------- ---------------------------- 103.6/375.9 MB 40.9 MB/s eta 0:00:07\n",
      "   ---------- ---------------------------- 105.7/375.9 MB 40.9 MB/s eta 0:00:07\n",
      "   ----------- --------------------------- 107.1/375.9 MB 40.9 MB/s eta 0:00:07\n",
      "   ----------- --------------------------- 109.4/375.9 MB 43.7 MB/s eta 0:00:07\n",
      "   ----------- --------------------------- 110.7/375.9 MB 40.9 MB/s eta 0:00:07\n",
      "   ----------- --------------------------- 112.7/375.9 MB 43.7 MB/s eta 0:00:07\n",
      "   ----------- --------------------------- 115.0/375.9 MB 43.7 MB/s eta 0:00:06\n",
      "   ------------ -------------------------- 116.4/375.9 MB 38.5 MB/s eta 0:00:07\n",
      "   ------------ -------------------------- 118.1/375.9 MB 36.4 MB/s eta 0:00:08\n",
      "   ------------ -------------------------- 119.4/375.9 MB 34.4 MB/s eta 0:00:08\n",
      "   ------------ -------------------------- 121.7/375.9 MB 36.4 MB/s eta 0:00:07\n",
      "   ------------ -------------------------- 123.0/375.9 MB 36.4 MB/s eta 0:00:07\n",
      "   ------------ -------------------------- 124.9/375.9 MB 38.5 MB/s eta 0:00:07\n",
      "   ------------- ------------------------- 126.9/375.9 MB 40.9 MB/s eta 0:00:07\n",
      "   ------------- ------------------------- 128.3/375.9 MB 43.5 MB/s eta 0:00:06\n",
      "   ------------- ------------------------- 130.1/375.9 MB 40.9 MB/s eta 0:00:07\n",
      "   ------------- ------------------------- 131.5/375.9 MB 40.9 MB/s eta 0:00:06\n",
      "   ------------- ------------------------- 133.5/375.9 MB 43.7 MB/s eta 0:00:06\n",
      "   -------------- ------------------------ 135.7/375.9 MB 43.7 MB/s eta 0:00:06\n",
      "   -------------- ------------------------ 137.0/375.9 MB 38.6 MB/s eta 0:00:07\n",
      "   -------------- ------------------------ 138.7/375.9 MB 38.5 MB/s eta 0:00:07\n",
      "   -------------- ------------------------ 140.2/375.9 MB 40.9 MB/s eta 0:00:06\n",
      "   -------------- ------------------------ 142.2/375.9 MB 40.9 MB/s eta 0:00:06\n",
      "   -------------- ------------------------ 143.7/375.9 MB 38.5 MB/s eta 0:00:07\n",
      "   --------------- ----------------------- 145.6/375.9 MB 40.9 MB/s eta 0:00:06\n",
      "   --------------- ----------------------- 147.2/375.9 MB 38.6 MB/s eta 0:00:06\n",
      "   --------------- ----------------------- 148.6/375.9 MB 38.5 MB/s eta 0:00:06\n",
      "   --------------- ----------------------- 150.3/375.9 MB 38.5 MB/s eta 0:00:06\n",
      "   --------------- ----------------------- 151.6/375.9 MB 36.4 MB/s eta 0:00:07\n",
      "   --------------- ----------------------- 153.4/375.9 MB 38.5 MB/s eta 0:00:06\n",
      "   ---------------- ---------------------- 155.4/375.9 MB 38.5 MB/s eta 0:00:06\n",
      "   ---------------- ---------------------- 157.0/375.9 MB 38.5 MB/s eta 0:00:06\n",
      "   ---------------- ---------------------- 158.6/375.9 MB 38.5 MB/s eta 0:00:06\n",
      "   ---------------- ---------------------- 159.7/375.9 MB 36.4 MB/s eta 0:00:06\n",
      "   ---------------- ---------------------- 161.0/375.9 MB 36.4 MB/s eta 0:00:06\n",
      "   ---------------- ---------------------- 162.3/375.9 MB 34.4 MB/s eta 0:00:07\n",
      "   ---------------- ---------------------- 163.6/375.9 MB 32.7 MB/s eta 0:00:07\n",
      "   ----------------- --------------------- 164.3/375.9 MB 32.8 MB/s eta 0:00:07\n",
      "   ----------------- --------------------- 164.3/375.9 MB 32.8 MB/s eta 0:00:07\n",
      "   ----------------- --------------------- 164.3/375.9 MB 32.8 MB/s eta 0:00:07\n",
      "   ----------------- --------------------- 164.3/375.9 MB 32.8 MB/s eta 0:00:07\n",
      "   ----------------- --------------------- 164.3/375.9 MB 32.8 MB/s eta 0:00:07\n",
      "   ----------------- --------------------- 166.4/375.9 MB 20.5 MB/s eta 0:00:11\n",
      "   ----------------- --------------------- 167.8/375.9 MB 19.8 MB/s eta 0:00:11\n",
      "   ----------------- --------------------- 169.7/375.9 MB 20.5 MB/s eta 0:00:11\n",
      "   ----------------- --------------------- 170.6/375.9 MB 20.5 MB/s eta 0:00:11\n",
      "   ----------------- --------------------- 172.9/375.9 MB 21.8 MB/s eta 0:00:10\n",
      "   ------------------ -------------------- 174.3/375.9 MB 21.1 MB/s eta 0:00:10\n",
      "   ------------------ -------------------- 175.8/375.9 MB 38.5 MB/s eta 0:00:06\n",
      "   ------------------ -------------------- 177.8/375.9 MB 40.9 MB/s eta 0:00:05\n",
      "   ------------------ -------------------- 179.0/375.9 MB 38.5 MB/s eta 0:00:06\n",
      "   ------------------ -------------------- 181.1/375.9 MB 40.9 MB/s eta 0:00:05\n",
      "   ------------------ -------------------- 183.0/375.9 MB 38.5 MB/s eta 0:00:06\n",
      "   ------------------- ------------------- 184.7/375.9 MB 40.9 MB/s eta 0:00:05\n",
      "   ------------------- ------------------- 186.6/375.9 MB 40.9 MB/s eta 0:00:05\n",
      "   ------------------- ------------------- 188.3/375.9 MB 40.9 MB/s eta 0:00:05\n",
      "   ------------------- ------------------- 189.3/375.9 MB 38.5 MB/s eta 0:00:05\n",
      "   ------------------- ------------------- 190.8/375.9 MB 36.4 MB/s eta 0:00:06\n",
      "   ------------------- ------------------- 192.8/375.9 MB 38.5 MB/s eta 0:00:05\n",
      "   -------------------- ------------------ 194.5/375.9 MB 38.5 MB/s eta 0:00:05\n",
      "   -------------------- ------------------ 195.7/375.9 MB 36.4 MB/s eta 0:00:05\n",
      "   -------------------- ------------------ 197.1/375.9 MB 34.4 MB/s eta 0:00:06\n",
      "   -------------------- ------------------ 198.4/375.9 MB 34.4 MB/s eta 0:00:06\n",
      "   -------------------- ------------------ 199.8/375.9 MB 32.8 MB/s eta 0:00:06\n",
      "   -------------------- ------------------ 201.2/375.9 MB 34.4 MB/s eta 0:00:06\n",
      "   -------------------- ------------------ 202.4/375.9 MB 31.2 MB/s eta 0:00:06\n",
      "   --------------------- ----------------- 203.5/375.9 MB 29.7 MB/s eta 0:00:06\n",
      "   --------------------- ----------------- 204.7/375.9 MB 29.8 MB/s eta 0:00:06\n",
      "   --------------------- ----------------- 206.0/375.9 MB 31.2 MB/s eta 0:00:06\n",
      "   --------------------- ----------------- 207.6/375.9 MB 29.7 MB/s eta 0:00:06\n",
      "   --------------------- ----------------- 208.8/375.9 MB 29.7 MB/s eta 0:00:06\n",
      "   --------------------- ----------------- 210.4/375.9 MB 31.2 MB/s eta 0:00:06\n",
      "   --------------------- ----------------- 211.5/375.9 MB 31.2 MB/s eta 0:00:06\n",
      "   ---------------------- ---------------- 213.2/375.9 MB 31.2 MB/s eta 0:00:06\n",
      "   ---------------------- ---------------- 214.7/375.9 MB 32.7 MB/s eta 0:00:05\n",
      "   ---------------------- ---------------- 215.7/375.9 MB 32.8 MB/s eta 0:00:05\n",
      "   ---------------------- ---------------- 217.4/375.9 MB 34.4 MB/s eta 0:00:05\n",
      "   ---------------------- ---------------- 219.0/375.9 MB 34.4 MB/s eta 0:00:05\n",
      "   ---------------------- ---------------- 220.4/375.9 MB 32.7 MB/s eta 0:00:05\n",
      "   ----------------------- --------------- 222.1/375.9 MB 36.4 MB/s eta 0:00:05\n",
      "   ----------------------- --------------- 223.9/375.9 MB 36.4 MB/s eta 0:00:05\n",
      "   ----------------------- --------------- 225.4/375.9 MB 34.4 MB/s eta 0:00:05\n",
      "   ----------------------- --------------- 226.6/375.9 MB 36.4 MB/s eta 0:00:05\n",
      "   ----------------------- --------------- 228.5/375.9 MB 36.4 MB/s eta 0:00:05\n",
      "   ----------------------- --------------- 229.8/375.9 MB 36.3 MB/s eta 0:00:05\n",
      "   ----------------------- --------------- 231.1/375.9 MB 34.4 MB/s eta 0:00:05\n",
      "   ------------------------ -------------- 233.0/375.9 MB 36.4 MB/s eta 0:00:04\n",
      "   ------------------------ -------------- 234.4/375.9 MB 36.3 MB/s eta 0:00:04\n",
      "   ------------------------ -------------- 236.3/375.9 MB 36.4 MB/s eta 0:00:04\n",
      "   ------------------------ -------------- 237.4/375.9 MB 36.4 MB/s eta 0:00:04\n",
      "   ------------------------ -------------- 239.0/375.9 MB 34.4 MB/s eta 0:00:04\n",
      "   ------------------------ -------------- 240.9/375.9 MB 36.4 MB/s eta 0:00:04\n",
      "   ------------------------- ------------- 242.5/375.9 MB 36.4 MB/s eta 0:00:04\n",
      "   ------------------------- ------------- 244.2/375.9 MB 38.6 MB/s eta 0:00:04\n",
      "   ------------------------- ------------- 245.1/375.9 MB 36.3 MB/s eta 0:00:04\n",
      "   ------------------------- ------------- 247.1/375.9 MB 36.4 MB/s eta 0:00:04\n",
      "   ------------------------- ------------- 248.4/375.9 MB 36.4 MB/s eta 0:00:04\n",
      "   ------------------------- ------------- 250.4/375.9 MB 36.4 MB/s eta 0:00:04\n",
      "   -------------------------- ------------ 252.0/375.9 MB 38.5 MB/s eta 0:00:04\n",
      "   -------------------------- ------------ 253.9/375.9 MB 36.3 MB/s eta 0:00:04\n",
      "   -------------------------- ------------ 255.7/375.9 MB 36.4 MB/s eta 0:00:04\n",
      "   -------------------------- ------------ 257.7/375.9 MB 36.4 MB/s eta 0:00:04\n",
      "   -------------------------- ------------ 259.4/375.9 MB 36.4 MB/s eta 0:00:04\n",
      "   --------------------------- ----------- 260.6/375.9 MB 36.4 MB/s eta 0:00:04\n",
      "   --------------------------- ----------- 261.9/375.9 MB 36.4 MB/s eta 0:00:04\n",
      "   --------------------------- ----------- 263.9/375.9 MB 34.4 MB/s eta 0:00:04\n",
      "   --------------------------- ----------- 265.4/375.9 MB 36.4 MB/s eta 0:00:04\n",
      "   --------------------------- ----------- 267.0/375.9 MB 36.4 MB/s eta 0:00:03\n",
      "   --------------------------- ----------- 268.2/375.9 MB 32.7 MB/s eta 0:00:04\n",
      "   ---------------------------- ---------- 270.2/375.9 MB 36.4 MB/s eta 0:00:03\n",
      "   ---------------------------- ---------- 272.1/375.9 MB 36.3 MB/s eta 0:00:03\n",
      "   ---------------------------- ---------- 273.5/375.9 MB 38.5 MB/s eta 0:00:03\n",
      "   ---------------------------- ---------- 275.2/375.9 MB 38.5 MB/s eta 0:00:03\n",
      "   ---------------------------- ---------- 277.4/375.9 MB 38.5 MB/s eta 0:00:03\n",
      "   ---------------------------- ---------- 278.9/375.9 MB 38.6 MB/s eta 0:00:03\n",
      "   ----------------------------- --------- 280.5/375.9 MB 38.6 MB/s eta 0:00:03\n",
      "   ----------------------------- --------- 282.5/375.9 MB 38.6 MB/s eta 0:00:03\n",
      "   ----------------------------- --------- 284.5/375.9 MB 38.5 MB/s eta 0:00:03\n",
      "   ----------------------------- --------- 285.8/375.9 MB 40.9 MB/s eta 0:00:03\n",
      "   ----------------------------- --------- 287.9/375.9 MB 40.9 MB/s eta 0:00:03\n",
      "   ------------------------------ -------- 289.2/375.9 MB 43.7 MB/s eta 0:00:02\n",
      "   ------------------------------ -------- 290.9/375.9 MB 40.9 MB/s eta 0:00:03\n",
      "   ------------------------------ -------- 292.7/375.9 MB 40.9 MB/s eta 0:00:03\n",
      "   ------------------------------ -------- 293.8/375.9 MB 38.6 MB/s eta 0:00:03\n",
      "   ------------------------------ -------- 296.2/375.9 MB 38.5 MB/s eta 0:00:03\n",
      "   ------------------------------ -------- 297.5/375.9 MB 36.4 MB/s eta 0:00:03\n",
      "   ------------------------------- ------- 299.4/375.9 MB 36.3 MB/s eta 0:00:03\n",
      "   ------------------------------- ------- 300.6/375.9 MB 38.5 MB/s eta 0:00:02\n",
      "   ------------------------------- ------- 302.4/375.9 MB 36.4 MB/s eta 0:00:03\n",
      "   ------------------------------- ------- 304.6/375.9 MB 40.9 MB/s eta 0:00:02\n",
      "   ------------------------------- ------- 306.3/375.9 MB 38.5 MB/s eta 0:00:02\n",
      "   ------------------------------- ------- 308.1/375.9 MB 38.6 MB/s eta 0:00:02\n",
      "   -------------------------------- ------ 309.5/375.9 MB 38.5 MB/s eta 0:00:02\n",
      "   -------------------------------- ------ 311.5/375.9 MB 38.6 MB/s eta 0:00:02\n",
      "   -------------------------------- ------ 312.9/375.9 MB 38.6 MB/s eta 0:00:02\n",
      "   -------------------------------- ------ 314.5/375.9 MB 38.6 MB/s eta 0:00:02\n",
      "   -------------------------------- ------ 316.7/375.9 MB 40.9 MB/s eta 0:00:02\n",
      "   --------------------------------- ----- 318.3/375.9 MB 40.9 MB/s eta 0:00:02\n",
      "   --------------------------------- ----- 320.1/375.9 MB 38.5 MB/s eta 0:00:02\n",
      "   --------------------------------- ----- 321.8/375.9 MB 40.9 MB/s eta 0:00:02\n",
      "   --------------------------------- ----- 323.6/375.9 MB 40.9 MB/s eta 0:00:02\n",
      "   --------------------------------- ----- 325.2/375.9 MB 43.7 MB/s eta 0:00:02\n",
      "   --------------------------------- ----- 327.0/375.9 MB 40.9 MB/s eta 0:00:02\n",
      "   ---------------------------------- ---- 329.0/375.9 MB 40.9 MB/s eta 0:00:02\n",
      "   ---------------------------------- ---- 330.3/375.9 MB 40.9 MB/s eta 0:00:02\n",
      "   ---------------------------------- ---- 331.3/375.9 MB 36.4 MB/s eta 0:00:02\n",
      "   ---------------------------------- ---- 332.6/375.9 MB 34.4 MB/s eta 0:00:02\n",
      "   ---------------------------------- ---- 334.6/375.9 MB 38.5 MB/s eta 0:00:02\n",
      "   ---------------------------------- ---- 336.4/375.9 MB 36.4 MB/s eta 0:00:02\n",
      "   ----------------------------------- --- 337.8/375.9 MB 36.4 MB/s eta 0:00:02\n",
      "   ----------------------------------- --- 339.1/375.9 MB 32.7 MB/s eta 0:00:02\n",
      "   ----------------------------------- --- 340.7/375.9 MB 34.4 MB/s eta 0:00:02\n",
      "   ----------------------------------- --- 342.2/375.9 MB 36.3 MB/s eta 0:00:01\n",
      "   ----------------------------------- --- 344.0/375.9 MB 36.3 MB/s eta 0:00:01\n",
      "   ----------------------------------- --- 345.2/375.9 MB 34.4 MB/s eta 0:00:01\n",
      "   ----------------------------------- --- 346.5/375.9 MB 32.8 MB/s eta 0:00:01\n",
      "   ------------------------------------ -- 347.3/375.9 MB 29.7 MB/s eta 0:00:01\n",
      "   ------------------------------------ -- 349.6/375.9 MB 34.6 MB/s eta 0:00:01\n",
      "   ------------------------------------ -- 351.5/375.9 MB 36.3 MB/s eta 0:00:01\n",
      "   ------------------------------------ -- 352.6/375.9 MB 34.4 MB/s eta 0:00:01\n",
      "   ------------------------------------ -- 354.2/375.9 MB 34.6 MB/s eta 0:00:01\n",
      "   ------------------------------------ -- 355.5/375.9 MB 34.4 MB/s eta 0:00:01\n",
      "   ------------------------------------- - 357.3/375.9 MB 38.6 MB/s eta 0:00:01\n",
      "   ------------------------------------- - 359.2/375.9 MB 36.4 MB/s eta 0:00:01\n",
      "   ------------------------------------- - 360.6/375.9 MB 34.4 MB/s eta 0:00:01\n",
      "   ------------------------------------- - 362.4/375.9 MB 36.4 MB/s eta 0:00:01\n",
      "   ------------------------------------- - 363.7/375.9 MB 36.4 MB/s eta 0:00:01\n",
      "   ------------------------------------- - 365.1/375.9 MB 36.4 MB/s eta 0:00:01\n",
      "   --------------------------------------  367.3/375.9 MB 38.6 MB/s eta 0:00:01\n",
      "   --------------------------------------  368.4/375.9 MB 36.4 MB/s eta 0:00:01\n",
      "   --------------------------------------  370.1/375.9 MB 36.4 MB/s eta 0:00:01\n",
      "   --------------------------------------  371.5/375.9 MB 36.4 MB/s eta 0:00:01\n",
      "   --------------------------------------  372.8/375.9 MB 34.4 MB/s eta 0:00:01\n",
      "   --------------------------------------  374.5/375.9 MB 36.4 MB/s eta 0:00:01\n",
      "   --------------------------------------  375.5/375.9 MB 34.4 MB/s eta 0:00:01\n",
      "   --------------------------------------  375.9/375.9 MB 32.8 MB/s eta 0:00:01\n",
      "   --------------------------------------  375.9/375.9 MB 32.8 MB/s eta 0:00:01\n",
      "   --------------------------------------  375.9/375.9 MB 32.8 MB/s eta 0:00:01\n",
      "   --------------------------------------  375.9/375.9 MB 32.8 MB/s eta 0:00:01\n",
      "   --------------------------------------  375.9/375.9 MB 32.8 MB/s eta 0:00:01\n",
      "   --------------------------------------  375.9/375.9 MB 32.8 MB/s eta 0:00:01\n",
      "   --------------------------------------  375.9/375.9 MB 32.8 MB/s eta 0:00:01\n",
      "   --------------------------------------  375.9/375.9 MB 32.8 MB/s eta 0:00:01\n",
      "   --------------------------------------  375.9/375.9 MB 32.8 MB/s eta 0:00:01\n",
      "   --------------------------------------  375.9/375.9 MB 32.8 MB/s eta 0:00:01\n",
      "   --------------------------------------  375.9/375.9 MB 32.8 MB/s eta 0:00:01\n",
      "   --------------------------------------  375.9/375.9 MB 32.8 MB/s eta 0:00:01\n",
      "   --------------------------------------  375.9/375.9 MB 32.8 MB/s eta 0:00:01\n",
      "   --------------------------------------  375.9/375.9 MB 32.8 MB/s eta 0:00:01\n",
      "   --------------------------------------  375.9/375.9 MB 32.8 MB/s eta 0:00:01\n",
      "   --------------------------------------  375.9/375.9 MB 32.8 MB/s eta 0:00:01\n",
      "   --------------------------------------- 375.9/375.9 MB 10.2 MB/s eta 0:00:00\n",
      "Using cached astunparse-1.6.3-py2.py3-none-any.whl (12 kB)\n",
      "Using cached flatbuffers-25.2.10-py2.py3-none-any.whl (30 kB)\n",
      "Using cached gast-0.6.0-py3-none-any.whl (21 kB)\n",
      "Using cached google_pasta-0.2.0-py3-none-any.whl (57 kB)\n",
      "Using cached grpcio-1.71.0-cp311-cp311-win_amd64.whl (4.3 MB)\n",
      "Using cached libclang-18.1.1-py2.py3-none-win_amd64.whl (26.4 MB)\n",
      "Downloading numpy-2.1.3-cp311-cp311-win_amd64.whl (12.9 MB)\n",
      "   ---------------------------------------- 0.0/12.9 MB ? eta -:--:--\n",
      "   ---- ----------------------------------- 1.6/12.9 MB 49.9 MB/s eta 0:00:01\n",
      "   ---------- ----------------------------- 3.2/12.9 MB 41.2 MB/s eta 0:00:01\n",
      "   --------------- ------------------------ 4.9/12.9 MB 34.9 MB/s eta 0:00:01\n",
      "   ------------------- -------------------- 6.2/12.9 MB 36.1 MB/s eta 0:00:01\n",
      "   ------------------------- -------------- 8.3/12.9 MB 37.8 MB/s eta 0:00:01\n",
      "   ---------------------------- ----------- 9.2/12.9 MB 34.7 MB/s eta 0:00:01\n",
      "   -------------------------------- ------- 10.5/12.9 MB 34.4 MB/s eta 0:00:01\n",
      "   ------------------------------------- -- 12.1/12.9 MB 34.4 MB/s eta 0:00:01\n",
      "   ---------------------------------------  12.9/12.9 MB 34.4 MB/s eta 0:00:01\n",
      "   ---------------------------------------- 12.9/12.9 MB 28.5 MB/s eta 0:00:00\n",
      "Using cached opt_einsum-3.4.0-py3-none-any.whl (71 kB)\n",
      "Using cached protobuf-5.29.4-cp310-abi3-win_amd64.whl (434 kB)\n",
      "Using cached tensorboard-2.19.0-py3-none-any.whl (5.5 MB)\n",
      "Using cached tensorflow_io_gcs_filesystem-0.31.0-cp311-cp311-win_amd64.whl (1.5 MB)\n",
      "Using cached termcolor-3.0.1-py3-none-any.whl (7.2 kB)\n",
      "Using cached wrapt-1.17.2-cp311-cp311-win_amd64.whl (38 kB)\n",
      "Using cached markdown-3.8-py3-none-any.whl (106 kB)\n",
      "Using cached tensorboard_data_server-0.7.2-py3-none-any.whl (2.4 kB)\n",
      "Using cached werkzeug-3.1.3-py3-none-any.whl (224 kB)\n",
      "Using cached wheel-0.45.1-py3-none-any.whl (72 kB)\n",
      "Using cached MarkupSafe-3.0.2-cp311-cp311-win_amd64.whl (15 kB)\n",
      "Installing collected packages: libclang, flatbuffers, wrapt, wheel, termcolor, tensorflow-io-gcs-filesystem, tensorboard-data-server, protobuf, opt-einsum, numpy, MarkupSafe, markdown, grpcio, google-pasta, gast, werkzeug, astunparse, tensorboard, tensorflow\n",
      "  Attempting uninstall: numpy\n",
      "    Found existing installation: numpy 2.2.5\n",
      "    Uninstalling numpy-2.2.5:\n",
      "      Successfully uninstalled numpy-2.2.5\n",
      "Successfully installed MarkupSafe-3.0.2 astunparse-1.6.3 flatbuffers-25.2.10 gast-0.6.0 google-pasta-0.2.0 grpcio-1.71.0 libclang-18.1.1 markdown-3.8 numpy-2.1.3 opt-einsum-3.4.0 protobuf-5.29.4 tensorboard-2.19.0 tensorboard-data-server-0.7.2 tensorflow-2.19.0 tensorflow-io-gcs-filesystem-0.31.0 termcolor-3.0.1 werkzeug-3.1.3 wheel-0.45.1 wrapt-1.17.2\n"
     ]
    },
    {
     "name": "stderr",
     "output_type": "stream",
     "text": [
      "  WARNING: Failed to remove contents in a temporary directory 'C:\\Users\\HP\\AppData\\Local\\Programs\\Python\\Python311\\Lib\\site-packages\\~umpy.libs'.\n",
      "  You can safely remove it manually.\n",
      "  WARNING: Failed to remove contents in a temporary directory 'C:\\Users\\HP\\AppData\\Local\\Programs\\Python\\Python311\\Lib\\site-packages\\~umpy'.\n",
      "  You can safely remove it manually.\n",
      "\n",
      "[notice] A new release of pip is available: 24.0 -> 25.0.1\n",
      "[notice] To update, run: python.exe -m pip install --upgrade pip\n"
     ]
    }
   ],
   "source": [
    "!pip install keras tensorflow\n",
    "from keras.layers import Dense, Dropout, LSTM\n",
    "from keras.models import Sequential"
   ]
  },
  {
   "cell_type": "code",
   "execution_count": 25,
   "id": "14867cd4-c1ed-4cf9-b339-245bfaec0852",
   "metadata": {},
   "outputs": [
    {
     "name": "stderr",
     "output_type": "stream",
     "text": [
      "c:\\Users\\HP\\AppData\\Local\\Programs\\Python\\Python311\\Lib\\site-packages\\keras\\src\\layers\\rnn\\rnn.py:200: UserWarning: Do not pass an `input_shape`/`input_dim` argument to a layer. When using Sequential models, prefer using an `Input(shape)` object as the first layer in the model instead.\n",
      "  super().__init__(**kwargs)\n"
     ]
    }
   ],
   "source": [
    "model = Sequential()\n",
    "model.add(LSTM(units = 50, activation = 'relu', return_sequences = True,\n",
    "               input_shape = ((x.shape[1],1))))\n",
    "model.add(Dropout(0.2))\n",
    "\n",
    "model.add(LSTM(units = 60, activation='relu', return_sequences = True))\n",
    "model.add(Dropout(0.3))\n",
    "\n",
    "model.add(LSTM(units = 80, activation = 'relu', return_sequences = True))\n",
    "model.add(Dropout(0.4))\n",
    "\n",
    "model.add(LSTM(units = 120, activation = 'relu'))\n",
    "model.add(Dropout(0.5))\n",
    "\n",
    "model.add(Dense(units =1))"
   ]
  },
  {
   "cell_type": "code",
   "execution_count": 26,
   "id": "c69edcc2-b11d-4702-8a6c-f6a6e677e79a",
   "metadata": {},
   "outputs": [],
   "source": [
    "model.compile(optimizer = 'adam', loss = 'mean_squared_error')"
   ]
  },
  {
   "cell_type": "code",
   "execution_count": 27,
   "id": "f36e439a-0106-4108-9630-7cdd7e5428e4",
   "metadata": {},
   "outputs": [
    {
     "name": "stdout",
     "output_type": "stream",
     "text": [
      "Epoch 1/50\n",
      "\u001b[1m66/66\u001b[0m \u001b[32m━━━━━━━━━━━━━━━━━━━━\u001b[0m\u001b[37m\u001b[0m \u001b[1m11s\u001b[0m 113ms/step - loss: 0.0735\n",
      "Epoch 2/50\n",
      "\u001b[1m66/66\u001b[0m \u001b[32m━━━━━━━━━━━━━━━━━━━━\u001b[0m\u001b[37m\u001b[0m \u001b[1m9s\u001b[0m 138ms/step - loss: 0.0067\n",
      "Epoch 3/50\n",
      "\u001b[1m66/66\u001b[0m \u001b[32m━━━━━━━━━━━━━━━━━━━━\u001b[0m\u001b[37m\u001b[0m \u001b[1m9s\u001b[0m 136ms/step - loss: 0.0063\n",
      "Epoch 4/50\n",
      "\u001b[1m66/66\u001b[0m \u001b[32m━━━━━━━━━━━━━━━━━━━━\u001b[0m\u001b[37m\u001b[0m \u001b[1m9s\u001b[0m 135ms/step - loss: 0.0057\n",
      "Epoch 5/50\n",
      "\u001b[1m66/66\u001b[0m \u001b[32m━━━━━━━━━━━━━━━━━━━━\u001b[0m\u001b[37m\u001b[0m \u001b[1m9s\u001b[0m 135ms/step - loss: 0.0049\n",
      "Epoch 6/50\n",
      "\u001b[1m66/66\u001b[0m \u001b[32m━━━━━━━━━━━━━━━━━━━━\u001b[0m\u001b[37m\u001b[0m \u001b[1m9s\u001b[0m 136ms/step - loss: 0.0050\n",
      "Epoch 7/50\n",
      "\u001b[1m66/66\u001b[0m \u001b[32m━━━━━━━━━━━━━━━━━━━━\u001b[0m\u001b[37m\u001b[0m \u001b[1m9s\u001b[0m 136ms/step - loss: 0.0047\n",
      "Epoch 8/50\n",
      "\u001b[1m66/66\u001b[0m \u001b[32m━━━━━━━━━━━━━━━━━━━━\u001b[0m\u001b[37m\u001b[0m \u001b[1m9s\u001b[0m 136ms/step - loss: 0.0043\n",
      "Epoch 9/50\n",
      "\u001b[1m66/66\u001b[0m \u001b[32m━━━━━━━━━━━━━━━━━━━━\u001b[0m\u001b[37m\u001b[0m \u001b[1m9s\u001b[0m 135ms/step - loss: 0.0040\n",
      "Epoch 10/50\n",
      "\u001b[1m66/66\u001b[0m \u001b[32m━━━━━━━━━━━━━━━━━━━━\u001b[0m\u001b[37m\u001b[0m \u001b[1m9s\u001b[0m 137ms/step - loss: 0.0035\n",
      "Epoch 11/50\n",
      "\u001b[1m66/66\u001b[0m \u001b[32m━━━━━━━━━━━━━━━━━━━━\u001b[0m\u001b[37m\u001b[0m \u001b[1m10s\u001b[0m 151ms/step - loss: 0.0046\n",
      "Epoch 12/50\n",
      "\u001b[1m66/66\u001b[0m \u001b[32m━━━━━━━━━━━━━━━━━━━━\u001b[0m\u001b[37m\u001b[0m \u001b[1m9s\u001b[0m 138ms/step - loss: 0.0042\n",
      "Epoch 13/50\n",
      "\u001b[1m66/66\u001b[0m \u001b[32m━━━━━━━━━━━━━━━━━━━━\u001b[0m\u001b[37m\u001b[0m \u001b[1m9s\u001b[0m 135ms/step - loss: 0.0041\n",
      "Epoch 14/50\n",
      "\u001b[1m66/66\u001b[0m \u001b[32m━━━━━━━━━━━━━━━━━━━━\u001b[0m\u001b[37m\u001b[0m \u001b[1m9s\u001b[0m 135ms/step - loss: 0.0035\n",
      "Epoch 15/50\n",
      "\u001b[1m66/66\u001b[0m \u001b[32m━━━━━━━━━━━━━━━━━━━━\u001b[0m\u001b[37m\u001b[0m \u001b[1m10s\u001b[0m 149ms/step - loss: 0.0032\n",
      "Epoch 16/50\n",
      "\u001b[1m66/66\u001b[0m \u001b[32m━━━━━━━━━━━━━━━━━━━━\u001b[0m\u001b[37m\u001b[0m \u001b[1m10s\u001b[0m 147ms/step - loss: 0.0029\n",
      "Epoch 17/50\n",
      "\u001b[1m66/66\u001b[0m \u001b[32m━━━━━━━━━━━━━━━━━━━━\u001b[0m\u001b[37m\u001b[0m \u001b[1m9s\u001b[0m 136ms/step - loss: 0.0031\n",
      "Epoch 18/50\n",
      "\u001b[1m66/66\u001b[0m \u001b[32m━━━━━━━━━━━━━━━━━━━━\u001b[0m\u001b[37m\u001b[0m \u001b[1m9s\u001b[0m 138ms/step - loss: 0.0030\n",
      "Epoch 19/50\n",
      "\u001b[1m66/66\u001b[0m \u001b[32m━━━━━━━━━━━━━━━━━━━━\u001b[0m\u001b[37m\u001b[0m \u001b[1m9s\u001b[0m 137ms/step - loss: 0.0029\n",
      "Epoch 20/50\n",
      "\u001b[1m66/66\u001b[0m \u001b[32m━━━━━━━━━━━━━━━━━━━━\u001b[0m\u001b[37m\u001b[0m \u001b[1m9s\u001b[0m 138ms/step - loss: 0.0027\n",
      "Epoch 21/50\n",
      "\u001b[1m66/66\u001b[0m \u001b[32m━━━━━━━━━━━━━━━━━━━━\u001b[0m\u001b[37m\u001b[0m \u001b[1m9s\u001b[0m 136ms/step - loss: 0.0030\n",
      "Epoch 22/50\n",
      "\u001b[1m66/66\u001b[0m \u001b[32m━━━━━━━━━━━━━━━━━━━━\u001b[0m\u001b[37m\u001b[0m \u001b[1m9s\u001b[0m 138ms/step - loss: 0.0026\n",
      "Epoch 23/50\n",
      "\u001b[1m66/66\u001b[0m \u001b[32m━━━━━━━━━━━━━━━━━━━━\u001b[0m\u001b[37m\u001b[0m \u001b[1m9s\u001b[0m 137ms/step - loss: 0.0030\n",
      "Epoch 24/50\n",
      "\u001b[1m66/66\u001b[0m \u001b[32m━━━━━━━━━━━━━━━━━━━━\u001b[0m\u001b[37m\u001b[0m \u001b[1m9s\u001b[0m 139ms/step - loss: 0.0024\n",
      "Epoch 25/50\n",
      "\u001b[1m66/66\u001b[0m \u001b[32m━━━━━━━━━━━━━━━━━━━━\u001b[0m\u001b[37m\u001b[0m \u001b[1m9s\u001b[0m 137ms/step - loss: 0.0026\n",
      "Epoch 26/50\n",
      "\u001b[1m66/66\u001b[0m \u001b[32m━━━━━━━━━━━━━━━━━━━━\u001b[0m\u001b[37m\u001b[0m \u001b[1m9s\u001b[0m 137ms/step - loss: 0.0025\n",
      "Epoch 27/50\n",
      "\u001b[1m66/66\u001b[0m \u001b[32m━━━━━━━━━━━━━━━━━━━━\u001b[0m\u001b[37m\u001b[0m \u001b[1m9s\u001b[0m 137ms/step - loss: 0.0027\n",
      "Epoch 28/50\n",
      "\u001b[1m66/66\u001b[0m \u001b[32m━━━━━━━━━━━━━━━━━━━━\u001b[0m\u001b[37m\u001b[0m \u001b[1m9s\u001b[0m 144ms/step - loss: 0.0024\n",
      "Epoch 29/50\n",
      "\u001b[1m66/66\u001b[0m \u001b[32m━━━━━━━━━━━━━━━━━━━━\u001b[0m\u001b[37m\u001b[0m \u001b[1m9s\u001b[0m 137ms/step - loss: 0.0026\n",
      "Epoch 30/50\n",
      "\u001b[1m66/66\u001b[0m \u001b[32m━━━━━━━━━━━━━━━━━━━━\u001b[0m\u001b[37m\u001b[0m \u001b[1m9s\u001b[0m 137ms/step - loss: 0.0024\n",
      "Epoch 31/50\n",
      "\u001b[1m66/66\u001b[0m \u001b[32m━━━━━━━━━━━━━━━━━━━━\u001b[0m\u001b[37m\u001b[0m \u001b[1m9s\u001b[0m 137ms/step - loss: 0.0022\n",
      "Epoch 32/50\n",
      "\u001b[1m66/66\u001b[0m \u001b[32m━━━━━━━━━━━━━━━━━━━━\u001b[0m\u001b[37m\u001b[0m \u001b[1m9s\u001b[0m 137ms/step - loss: 0.0022\n",
      "Epoch 33/50\n",
      "\u001b[1m66/66\u001b[0m \u001b[32m━━━━━━━━━━━━━━━━━━━━\u001b[0m\u001b[37m\u001b[0m \u001b[1m9s\u001b[0m 138ms/step - loss: 0.0019\n",
      "Epoch 34/50\n",
      "\u001b[1m66/66\u001b[0m \u001b[32m━━━━━━━━━━━━━━━━━━━━\u001b[0m\u001b[37m\u001b[0m \u001b[1m9s\u001b[0m 137ms/step - loss: 0.0023\n",
      "Epoch 35/50\n",
      "\u001b[1m66/66\u001b[0m \u001b[32m━━━━━━━━━━━━━━━━━━━━\u001b[0m\u001b[37m\u001b[0m \u001b[1m9s\u001b[0m 138ms/step - loss: 0.0024\n",
      "Epoch 36/50\n",
      "\u001b[1m66/66\u001b[0m \u001b[32m━━━━━━━━━━━━━━━━━━━━\u001b[0m\u001b[37m\u001b[0m \u001b[1m9s\u001b[0m 139ms/step - loss: 0.0022\n",
      "Epoch 37/50\n",
      "\u001b[1m66/66\u001b[0m \u001b[32m━━━━━━━━━━━━━━━━━━━━\u001b[0m\u001b[37m\u001b[0m \u001b[1m9s\u001b[0m 142ms/step - loss: 0.0023\n",
      "Epoch 38/50\n",
      "\u001b[1m66/66\u001b[0m \u001b[32m━━━━━━━━━━━━━━━━━━━━\u001b[0m\u001b[37m\u001b[0m \u001b[1m9s\u001b[0m 137ms/step - loss: 0.0020\n",
      "Epoch 39/50\n",
      "\u001b[1m66/66\u001b[0m \u001b[32m━━━━━━━━━━━━━━━━━━━━\u001b[0m\u001b[37m\u001b[0m \u001b[1m9s\u001b[0m 140ms/step - loss: 0.0022\n",
      "Epoch 40/50\n",
      "\u001b[1m66/66\u001b[0m \u001b[32m━━━━━━━━━━━━━━━━━━━━\u001b[0m\u001b[37m\u001b[0m \u001b[1m9s\u001b[0m 140ms/step - loss: 0.0021\n",
      "Epoch 41/50\n",
      "\u001b[1m66/66\u001b[0m \u001b[32m━━━━━━━━━━━━━━━━━━━━\u001b[0m\u001b[37m\u001b[0m \u001b[1m10s\u001b[0m 144ms/step - loss: 0.0021\n",
      "Epoch 42/50\n",
      "\u001b[1m66/66\u001b[0m \u001b[32m━━━━━━━━━━━━━━━━━━━━\u001b[0m\u001b[37m\u001b[0m \u001b[1m10s\u001b[0m 143ms/step - loss: 0.0020\n",
      "Epoch 43/50\n",
      "\u001b[1m66/66\u001b[0m \u001b[32m━━━━━━━━━━━━━━━━━━━━\u001b[0m\u001b[37m\u001b[0m \u001b[1m10s\u001b[0m 145ms/step - loss: 0.0022\n",
      "Epoch 44/50\n",
      "\u001b[1m66/66\u001b[0m \u001b[32m━━━━━━━━━━━━━━━━━━━━\u001b[0m\u001b[37m\u001b[0m \u001b[1m10s\u001b[0m 147ms/step - loss: 0.0018\n",
      "Epoch 45/50\n",
      "\u001b[1m66/66\u001b[0m \u001b[32m━━━━━━━━━━━━━━━━━━━━\u001b[0m\u001b[37m\u001b[0m \u001b[1m9s\u001b[0m 139ms/step - loss: 0.0020\n",
      "Epoch 46/50\n",
      "\u001b[1m66/66\u001b[0m \u001b[32m━━━━━━━━━━━━━━━━━━━━\u001b[0m\u001b[37m\u001b[0m \u001b[1m9s\u001b[0m 139ms/step - loss: 0.0019\n",
      "Epoch 47/50\n",
      "\u001b[1m66/66\u001b[0m \u001b[32m━━━━━━━━━━━━━━━━━━━━\u001b[0m\u001b[37m\u001b[0m \u001b[1m9s\u001b[0m 140ms/step - loss: 0.0019\n",
      "Epoch 48/50\n",
      "\u001b[1m66/66\u001b[0m \u001b[32m━━━━━━━━━━━━━━━━━━━━\u001b[0m\u001b[37m\u001b[0m \u001b[1m10s\u001b[0m 152ms/step - loss: 0.0021\n",
      "Epoch 49/50\n",
      "\u001b[1m66/66\u001b[0m \u001b[32m━━━━━━━━━━━━━━━━━━━━\u001b[0m\u001b[37m\u001b[0m \u001b[1m9s\u001b[0m 139ms/step - loss: 0.0019\n",
      "Epoch 50/50\n",
      "\u001b[1m66/66\u001b[0m \u001b[32m━━━━━━━━━━━━━━━━━━━━\u001b[0m\u001b[37m\u001b[0m \u001b[1m9s\u001b[0m 138ms/step - loss: 0.0018\n"
     ]
    },
    {
     "data": {
      "text/plain": [
       "<keras.src.callbacks.history.History at 0x2505db42410>"
      ]
     },
     "execution_count": 27,
     "metadata": {},
     "output_type": "execute_result"
    }
   ],
   "source": [
    "model.fit(x,y, epochs = 50, batch_size =32, verbose =1)"
   ]
  },
  {
   "cell_type": "code",
   "execution_count": 28,
   "id": "62f9decd-83a6-4c03-8963-dc3298b2a104",
   "metadata": {},
   "outputs": [
    {
     "data": {
      "text/html": [
       "<pre style=\"white-space:pre;overflow-x:auto;line-height:normal;font-family:Menlo,'DejaVu Sans Mono',consolas,'Courier New',monospace\"><span style=\"font-weight: bold\">Model: \"sequential\"</span>\n",
       "</pre>\n"
      ],
      "text/plain": [
       "\u001b[1mModel: \"sequential\"\u001b[0m\n"
      ]
     },
     "metadata": {},
     "output_type": "display_data"
    },
    {
     "data": {
      "text/html": [
       "<pre style=\"white-space:pre;overflow-x:auto;line-height:normal;font-family:Menlo,'DejaVu Sans Mono',consolas,'Courier New',monospace\">┏━━━━━━━━━━━━━━━━━━━━━━━━━━━━━━━━━┳━━━━━━━━━━━━━━━━━━━━━━━━┳━━━━━━━━━━━━━━━┓\n",
       "┃<span style=\"font-weight: bold\"> Layer (type)                    </span>┃<span style=\"font-weight: bold\"> Output Shape           </span>┃<span style=\"font-weight: bold\">       Param # </span>┃\n",
       "┡━━━━━━━━━━━━━━━━━━━━━━━━━━━━━━━━━╇━━━━━━━━━━━━━━━━━━━━━━━━╇━━━━━━━━━━━━━━━┩\n",
       "│ lstm (<span style=\"color: #0087ff; text-decoration-color: #0087ff\">LSTM</span>)                     │ (<span style=\"color: #00d7ff; text-decoration-color: #00d7ff\">None</span>, <span style=\"color: #00af00; text-decoration-color: #00af00\">100</span>, <span style=\"color: #00af00; text-decoration-color: #00af00\">50</span>)        │        <span style=\"color: #00af00; text-decoration-color: #00af00\">10,400</span> │\n",
       "├─────────────────────────────────┼────────────────────────┼───────────────┤\n",
       "│ dropout (<span style=\"color: #0087ff; text-decoration-color: #0087ff\">Dropout</span>)               │ (<span style=\"color: #00d7ff; text-decoration-color: #00d7ff\">None</span>, <span style=\"color: #00af00; text-decoration-color: #00af00\">100</span>, <span style=\"color: #00af00; text-decoration-color: #00af00\">50</span>)        │             <span style=\"color: #00af00; text-decoration-color: #00af00\">0</span> │\n",
       "├─────────────────────────────────┼────────────────────────┼───────────────┤\n",
       "│ lstm_1 (<span style=\"color: #0087ff; text-decoration-color: #0087ff\">LSTM</span>)                   │ (<span style=\"color: #00d7ff; text-decoration-color: #00d7ff\">None</span>, <span style=\"color: #00af00; text-decoration-color: #00af00\">100</span>, <span style=\"color: #00af00; text-decoration-color: #00af00\">60</span>)        │        <span style=\"color: #00af00; text-decoration-color: #00af00\">26,640</span> │\n",
       "├─────────────────────────────────┼────────────────────────┼───────────────┤\n",
       "│ dropout_1 (<span style=\"color: #0087ff; text-decoration-color: #0087ff\">Dropout</span>)             │ (<span style=\"color: #00d7ff; text-decoration-color: #00d7ff\">None</span>, <span style=\"color: #00af00; text-decoration-color: #00af00\">100</span>, <span style=\"color: #00af00; text-decoration-color: #00af00\">60</span>)        │             <span style=\"color: #00af00; text-decoration-color: #00af00\">0</span> │\n",
       "├─────────────────────────────────┼────────────────────────┼───────────────┤\n",
       "│ lstm_2 (<span style=\"color: #0087ff; text-decoration-color: #0087ff\">LSTM</span>)                   │ (<span style=\"color: #00d7ff; text-decoration-color: #00d7ff\">None</span>, <span style=\"color: #00af00; text-decoration-color: #00af00\">100</span>, <span style=\"color: #00af00; text-decoration-color: #00af00\">80</span>)        │        <span style=\"color: #00af00; text-decoration-color: #00af00\">45,120</span> │\n",
       "├─────────────────────────────────┼────────────────────────┼───────────────┤\n",
       "│ dropout_2 (<span style=\"color: #0087ff; text-decoration-color: #0087ff\">Dropout</span>)             │ (<span style=\"color: #00d7ff; text-decoration-color: #00d7ff\">None</span>, <span style=\"color: #00af00; text-decoration-color: #00af00\">100</span>, <span style=\"color: #00af00; text-decoration-color: #00af00\">80</span>)        │             <span style=\"color: #00af00; text-decoration-color: #00af00\">0</span> │\n",
       "├─────────────────────────────────┼────────────────────────┼───────────────┤\n",
       "│ lstm_3 (<span style=\"color: #0087ff; text-decoration-color: #0087ff\">LSTM</span>)                   │ (<span style=\"color: #00d7ff; text-decoration-color: #00d7ff\">None</span>, <span style=\"color: #00af00; text-decoration-color: #00af00\">120</span>)            │        <span style=\"color: #00af00; text-decoration-color: #00af00\">96,480</span> │\n",
       "├─────────────────────────────────┼────────────────────────┼───────────────┤\n",
       "│ dropout_3 (<span style=\"color: #0087ff; text-decoration-color: #0087ff\">Dropout</span>)             │ (<span style=\"color: #00d7ff; text-decoration-color: #00d7ff\">None</span>, <span style=\"color: #00af00; text-decoration-color: #00af00\">120</span>)            │             <span style=\"color: #00af00; text-decoration-color: #00af00\">0</span> │\n",
       "├─────────────────────────────────┼────────────────────────┼───────────────┤\n",
       "│ dense (<span style=\"color: #0087ff; text-decoration-color: #0087ff\">Dense</span>)                   │ (<span style=\"color: #00d7ff; text-decoration-color: #00d7ff\">None</span>, <span style=\"color: #00af00; text-decoration-color: #00af00\">1</span>)              │           <span style=\"color: #00af00; text-decoration-color: #00af00\">121</span> │\n",
       "└─────────────────────────────────┴────────────────────────┴───────────────┘\n",
       "</pre>\n"
      ],
      "text/plain": [
       "┏━━━━━━━━━━━━━━━━━━━━━━━━━━━━━━━━━┳━━━━━━━━━━━━━━━━━━━━━━━━┳━━━━━━━━━━━━━━━┓\n",
       "┃\u001b[1m \u001b[0m\u001b[1mLayer (type)                   \u001b[0m\u001b[1m \u001b[0m┃\u001b[1m \u001b[0m\u001b[1mOutput Shape          \u001b[0m\u001b[1m \u001b[0m┃\u001b[1m \u001b[0m\u001b[1m      Param #\u001b[0m\u001b[1m \u001b[0m┃\n",
       "┡━━━━━━━━━━━━━━━━━━━━━━━━━━━━━━━━━╇━━━━━━━━━━━━━━━━━━━━━━━━╇━━━━━━━━━━━━━━━┩\n",
       "│ lstm (\u001b[38;5;33mLSTM\u001b[0m)                     │ (\u001b[38;5;45mNone\u001b[0m, \u001b[38;5;34m100\u001b[0m, \u001b[38;5;34m50\u001b[0m)        │        \u001b[38;5;34m10,400\u001b[0m │\n",
       "├─────────────────────────────────┼────────────────────────┼───────────────┤\n",
       "│ dropout (\u001b[38;5;33mDropout\u001b[0m)               │ (\u001b[38;5;45mNone\u001b[0m, \u001b[38;5;34m100\u001b[0m, \u001b[38;5;34m50\u001b[0m)        │             \u001b[38;5;34m0\u001b[0m │\n",
       "├─────────────────────────────────┼────────────────────────┼───────────────┤\n",
       "│ lstm_1 (\u001b[38;5;33mLSTM\u001b[0m)                   │ (\u001b[38;5;45mNone\u001b[0m, \u001b[38;5;34m100\u001b[0m, \u001b[38;5;34m60\u001b[0m)        │        \u001b[38;5;34m26,640\u001b[0m │\n",
       "├─────────────────────────────────┼────────────────────────┼───────────────┤\n",
       "│ dropout_1 (\u001b[38;5;33mDropout\u001b[0m)             │ (\u001b[38;5;45mNone\u001b[0m, \u001b[38;5;34m100\u001b[0m, \u001b[38;5;34m60\u001b[0m)        │             \u001b[38;5;34m0\u001b[0m │\n",
       "├─────────────────────────────────┼────────────────────────┼───────────────┤\n",
       "│ lstm_2 (\u001b[38;5;33mLSTM\u001b[0m)                   │ (\u001b[38;5;45mNone\u001b[0m, \u001b[38;5;34m100\u001b[0m, \u001b[38;5;34m80\u001b[0m)        │        \u001b[38;5;34m45,120\u001b[0m │\n",
       "├─────────────────────────────────┼────────────────────────┼───────────────┤\n",
       "│ dropout_2 (\u001b[38;5;33mDropout\u001b[0m)             │ (\u001b[38;5;45mNone\u001b[0m, \u001b[38;5;34m100\u001b[0m, \u001b[38;5;34m80\u001b[0m)        │             \u001b[38;5;34m0\u001b[0m │\n",
       "├─────────────────────────────────┼────────────────────────┼───────────────┤\n",
       "│ lstm_3 (\u001b[38;5;33mLSTM\u001b[0m)                   │ (\u001b[38;5;45mNone\u001b[0m, \u001b[38;5;34m120\u001b[0m)            │        \u001b[38;5;34m96,480\u001b[0m │\n",
       "├─────────────────────────────────┼────────────────────────┼───────────────┤\n",
       "│ dropout_3 (\u001b[38;5;33mDropout\u001b[0m)             │ (\u001b[38;5;45mNone\u001b[0m, \u001b[38;5;34m120\u001b[0m)            │             \u001b[38;5;34m0\u001b[0m │\n",
       "├─────────────────────────────────┼────────────────────────┼───────────────┤\n",
       "│ dense (\u001b[38;5;33mDense\u001b[0m)                   │ (\u001b[38;5;45mNone\u001b[0m, \u001b[38;5;34m1\u001b[0m)              │           \u001b[38;5;34m121\u001b[0m │\n",
       "└─────────────────────────────────┴────────────────────────┴───────────────┘\n"
      ]
     },
     "metadata": {},
     "output_type": "display_data"
    },
    {
     "data": {
      "text/html": [
       "<pre style=\"white-space:pre;overflow-x:auto;line-height:normal;font-family:Menlo,'DejaVu Sans Mono',consolas,'Courier New',monospace\"><span style=\"font-weight: bold\"> Total params: </span><span style=\"color: #00af00; text-decoration-color: #00af00\">536,285</span> (2.05 MB)\n",
       "</pre>\n"
      ],
      "text/plain": [
       "\u001b[1m Total params: \u001b[0m\u001b[38;5;34m536,285\u001b[0m (2.05 MB)\n"
      ]
     },
     "metadata": {},
     "output_type": "display_data"
    },
    {
     "data": {
      "text/html": [
       "<pre style=\"white-space:pre;overflow-x:auto;line-height:normal;font-family:Menlo,'DejaVu Sans Mono',consolas,'Courier New',monospace\"><span style=\"font-weight: bold\"> Trainable params: </span><span style=\"color: #00af00; text-decoration-color: #00af00\">178,761</span> (698.29 KB)\n",
       "</pre>\n"
      ],
      "text/plain": [
       "\u001b[1m Trainable params: \u001b[0m\u001b[38;5;34m178,761\u001b[0m (698.29 KB)\n"
      ]
     },
     "metadata": {},
     "output_type": "display_data"
    },
    {
     "data": {
      "text/html": [
       "<pre style=\"white-space:pre;overflow-x:auto;line-height:normal;font-family:Menlo,'DejaVu Sans Mono',consolas,'Courier New',monospace\"><span style=\"font-weight: bold\"> Non-trainable params: </span><span style=\"color: #00af00; text-decoration-color: #00af00\">0</span> (0.00 B)\n",
       "</pre>\n"
      ],
      "text/plain": [
       "\u001b[1m Non-trainable params: \u001b[0m\u001b[38;5;34m0\u001b[0m (0.00 B)\n"
      ]
     },
     "metadata": {},
     "output_type": "display_data"
    },
    {
     "data": {
      "text/html": [
       "<pre style=\"white-space:pre;overflow-x:auto;line-height:normal;font-family:Menlo,'DejaVu Sans Mono',consolas,'Courier New',monospace\"><span style=\"font-weight: bold\"> Optimizer params: </span><span style=\"color: #00af00; text-decoration-color: #00af00\">357,524</span> (1.36 MB)\n",
       "</pre>\n"
      ],
      "text/plain": [
       "\u001b[1m Optimizer params: \u001b[0m\u001b[38;5;34m357,524\u001b[0m (1.36 MB)\n"
      ]
     },
     "metadata": {},
     "output_type": "display_data"
    }
   ],
   "source": [
    "model.summary()"
   ]
  },
  {
   "cell_type": "code",
   "execution_count": 29,
   "id": "89cf9dc7-4e14-4c80-82bc-d6dcac8c98a2",
   "metadata": {},
   "outputs": [],
   "source": [
    "pas_100_days = data_train.tail(100)"
   ]
  },
  {
   "cell_type": "code",
   "execution_count": 30,
   "id": "67ef7a1e-63cc-4874-9b61-634026572822",
   "metadata": {},
   "outputs": [],
   "source": [
    "data_test = pd.concat([pas_100_days, data_test], ignore_index=True)"
   ]
  },
  {
   "cell_type": "code",
   "execution_count": 31,
   "id": "7a0512e4-0eaf-4137-b61d-8bb0e48ca041",
   "metadata": {},
   "outputs": [],
   "source": [
    "data_test_scale  =  scaler.fit_transform(data_test)"
   ]
  },
  {
   "cell_type": "code",
   "execution_count": 32,
   "id": "536de9d0-2cc7-41dd-b500-affd3e3fec9d",
   "metadata": {},
   "outputs": [],
   "source": [
    "x = []\n",
    "y = []\n",
    "\n",
    "for i in range(100, data_test_scale.shape[0]):\n",
    "    x.append(data_test_scale[i-100:i])\n",
    "    y.append(data_test_scale[i,0])\n",
    "x, y = np.array(x), np.array(y)"
   ]
  },
  {
   "cell_type": "code",
   "execution_count": 33,
   "id": "4602f57f-8832-4bf6-a50e-bb5164ff7872",
   "metadata": {},
   "outputs": [
    {
     "name": "stdout",
     "output_type": "stream",
     "text": [
      "\u001b[1m18/18\u001b[0m \u001b[32m━━━━━━━━━━━━━━━━━━━━\u001b[0m\u001b[37m\u001b[0m \u001b[1m1s\u001b[0m 51ms/step\n"
     ]
    }
   ],
   "source": [
    "y_predict = model.predict(x)"
   ]
  },
  {
   "cell_type": "code",
   "execution_count": 34,
   "id": "ca2d2d64-b69a-4eb3-b4f6-5356bfb5b74a",
   "metadata": {},
   "outputs": [],
   "source": [
    "scale =1/scaler.scale_"
   ]
  },
  {
   "cell_type": "code",
   "execution_count": 35,
   "id": "b3e3794a-785d-4ac8-96a3-70fab6259f1c",
   "metadata": {},
   "outputs": [],
   "source": [
    "y_predict = y_predict*scale"
   ]
  },
  {
   "cell_type": "code",
   "execution_count": 36,
   "id": "5acb458b-7488-4860-9ccd-8999d67510f7",
   "metadata": {},
   "outputs": [],
   "source": [
    "y = y*scale"
   ]
  },
  {
   "cell_type": "code",
   "execution_count": 53,
   "id": "6ab280be-9494-4ea1-baf2-45fc38130366",
   "metadata": {},
   "outputs": [
    {
     "data": {
      "image/png": "[encoded data removed]",
      "text/plain": [
       "<Figure size 1000x800 with 1 Axes>"
      ]
     },
     "metadata": {},
     "output_type": "display_data"
    }
   ],
   "source": [
    "plt.figure(figsize=(10,8))\n",
    "plt.plot(y_predict, 'r', label = 'Predicted Price')\n",
    "plt.plot(y, 'g', label = 'Original Price')\n",
    "plt.xlabel('Time')\n",
    "plt.ylabel('Price')\n",
    "plt.legend()\n",
    "plt.show()"
   ]
  },
  {
   "cell_type": "code",
   "execution_count": 37,
   "id": "22143940-722e-4c05-8b46-d2f7d9abb882",
   "metadata": {},
   "outputs": [],
   "source": [
    "model.save('Stock Predictions Model.keras')"
   ]
  },
  {
   "cell_type": "code",
   "execution_count": null,
   "id": "bd3bc001-da88-44ba-85d1-9b72ebfde3a6",
   "metadata": {},
   "outputs": [],
   "source": []
  }
 ],
 "metadata": {
  "kernelspec": {
   "display_name": "Python 3",
   "language": "python",
   "name": "python3"
  },
  "language_info": {
   "codemirror_mode": {
    "name": "ipython",
    "version": 3
   },
   "file_extension": ".py",
   "mimetype": "text/x-python",
   "name": "python",
   "nbconvert_exporter": "python",
   "pygments_lexer": "ipython3",
   "version": "3.11.9"
  }
 },
 "nbformat": 4,
 "nbformat_minor": 5
}
